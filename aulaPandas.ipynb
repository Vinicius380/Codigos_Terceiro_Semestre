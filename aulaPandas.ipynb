{
 "cells": [
  {
   "cell_type": "code",
   "execution_count": 30,
   "metadata": {},
   "outputs": [],
   "source": [
    "import pandas as pd\n",
    "import numpy as np"
   ]
  },
  {
   "cell_type": "code",
   "execution_count": 31,
   "metadata": {},
   "outputs": [
    {
     "data": {
      "text/html": [
       "<div>\n",
       "<style scoped>\n",
       "    .dataframe tbody tr th:only-of-type {\n",
       "        vertical-align: middle;\n",
       "    }\n",
       "\n",
       "    .dataframe tbody tr th {\n",
       "        vertical-align: top;\n",
       "    }\n",
       "\n",
       "    .dataframe thead th {\n",
       "        text-align: right;\n",
       "    }\n",
       "</style>\n",
       "<table border=\"1\" class=\"dataframe\">\n",
       "  <thead>\n",
       "    <tr style=\"text-align: right;\">\n",
       "      <th></th>\n",
       "      <th>Nome</th>\n",
       "      <th>Idade</th>\n",
       "      <th>Cidade</th>\n",
       "    </tr>\n",
       "  </thead>\n",
       "  <tbody>\n",
       "    <tr>\n",
       "      <th>0</th>\n",
       "      <td>Ana</td>\n",
       "      <td>25</td>\n",
       "      <td>Sao Paulo</td>\n",
       "    </tr>\n",
       "    <tr>\n",
       "      <th>1</th>\n",
       "      <td>Joao</td>\n",
       "      <td>30</td>\n",
       "      <td>Rio de Janeiro</td>\n",
       "    </tr>\n",
       "    <tr>\n",
       "      <th>2</th>\n",
       "      <td>Maria</td>\n",
       "      <td>22</td>\n",
       "      <td>Belo Horizonte</td>\n",
       "    </tr>\n",
       "    <tr>\n",
       "      <th>3</th>\n",
       "      <td>Carlos</td>\n",
       "      <td>35</td>\n",
       "      <td>Porto Alegre</td>\n",
       "    </tr>\n",
       "  </tbody>\n",
       "</table>\n",
       "</div>"
      ],
      "text/plain": [
       "     Nome  Idade          Cidade\n",
       "0     Ana     25       Sao Paulo\n",
       "1    Joao     30  Rio de Janeiro\n",
       "2   Maria     22  Belo Horizonte\n",
       "3  Carlos     35    Porto Alegre"
      ]
     },
     "execution_count": 31,
     "metadata": {},
     "output_type": "execute_result"
    }
   ],
   "source": [
    "data = {\n",
    "    'Nome': ['Ana', 'Joao', 'Maria', 'Carlos'],\n",
    "    'Idade': [25, 30, 22, 35],\n",
    "    'Cidade': ['Sao Paulo', 'Rio de Janeiro', 'Belo Horizonte', 'Porto Alegre']\n",
    "}\n",
    "\n",
    "df = pd.DataFrame(data)\n",
    "df"
   ]
  },
  {
   "cell_type": "code",
   "execution_count": 32,
   "metadata": {},
   "outputs": [
    {
     "name": "stdout",
     "output_type": "stream",
     "text": [
      "Primeiras Linhas:\n",
      "   Nome  Idade          Cidade\n",
      "0   Ana     25       Sao Paulo\n",
      "1  Joao     30  Rio de Janeiro\n",
      "\n",
      "Ultimas Linhas:\n",
      "     Nome  Idade          Cidade\n",
      "2   Maria     22  Belo Horizonte\n",
      "3  Carlos     35    Porto Alegre\n",
      "\n",
      "Informacoes do DataFrame\n",
      "<class 'pandas.core.frame.DataFrame'>\n",
      "RangeIndex: 4 entries, 0 to 3\n",
      "Data columns (total 3 columns):\n",
      " #   Column  Non-Null Count  Dtype \n",
      "---  ------  --------------  ----- \n",
      " 0   Nome    4 non-null      object\n",
      " 1   Idade   4 non-null      int64 \n",
      " 2   Cidade  4 non-null      object\n",
      "dtypes: int64(1), object(2)\n",
      "memory usage: 228.0+ bytes\n",
      "None\n",
      "\n",
      "Estatisticas Descritivas\n",
      "           Idade\n",
      "count   4.000000\n",
      "mean   28.000000\n",
      "std     5.715476\n",
      "min    22.000000\n",
      "25%    24.250000\n",
      "50%    27.500000\n",
      "75%    31.250000\n",
      "max    35.000000\n"
     ]
    }
   ],
   "source": [
    "print('Primeiras Linhas:')\n",
    "print(df.head(2))\n",
    "\n",
    "print('\\nUltimas Linhas:')\n",
    "print(df.tail(2))\n",
    "\n",
    "print('\\nInformacoes do DataFrame')\n",
    "print(df.info())\n",
    "\n",
    "print('\\nEstatisticas Descritivas')\n",
    "print(df.describe())"
   ]
  },
  {
   "cell_type": "code",
   "execution_count": 33,
   "metadata": {},
   "outputs": [
    {
     "name": "stdout",
     "output_type": "stream",
     "text": [
      "Coluna Nome:\n",
      "0       Ana\n",
      "1      Joao\n",
      "2     Maria\n",
      "3    Carlos\n",
      "Name: Nome, dtype: object\n",
      "Colunas Nome e Idade:\n",
      "     Nome  Idade\n",
      "0     Ana     25\n",
      "1    Joao     30\n",
      "2   Maria     22\n",
      "3  Carlos     35\n",
      "\n",
      "Linha por Indice\n",
      "Nome                Joao\n",
      "Idade                 30\n",
      "Cidade    Rio de Janeiro\n",
      "Name: 1, dtype: object\n",
      "\n",
      "Pessoas com mais de 25 anos\n",
      "     Nome  Idade          Cidade\n",
      "1    Joao     30  Rio de Janeiro\n",
      "3  Carlos     35    Porto Alegre\n"
     ]
    }
   ],
   "source": [
    "print('Coluna Nome:')\n",
    "print(df['Nome'])\n",
    "\n",
    "print('Colunas Nome e Idade:')\n",
    "print(df[['Nome', 'Idade']])\n",
    "\n",
    "print('\\nLinha por Indice')\n",
    "print(df.iloc[1])\n",
    "\n",
    "print('\\nPessoas com mais de 25 anos')\n",
    "print(df[df['Idade'] > 25])"
   ]
  },
  {
   "cell_type": "code",
   "execution_count": null,
   "metadata": {},
   "outputs": [
    {
     "name": "stdout",
     "output_type": "stream",
     "text": [
      "    Nome  Idade  Cidade\n",
      "0  False  False   False\n",
      "1  False  False   False\n",
      "2  False   True    True\n",
      "3  False  False   False\n",
      "4   True  False   False\n",
      "     Nome  Idade          Cidade\n",
      "0     Ana   25.0       Sao Paulo\n",
      "1    Joao   30.0  Rio de Janeiro\n",
      "3  Carlos   22.0    Porto Alegre\n",
      "           Nome  Idade          Cidade\n",
      "0           Ana   25.0       Sao Paulo\n",
      "1          Joao   30.0  Rio de Janeiro\n",
      "2         Maria   28.0   Nao informada\n",
      "3        Carlos   22.0    Porto Alegre\n",
      "4  Desconhecido   35.0        Curitiba\n"
     ]
    }
   ],
   "source": [
    "data = {\n",
    "    'Nome': ['Ana', 'Joao', 'Maria', 'Carlos', None],\n",
    "    'Idade': [25, 30, None, 22, 35],\n",
    "    'Cidade': ['Sao Paulo', 'Rio de Janeiro', None, 'Porto Alegre', 'Curitiba']\n",
    "}\n",
    "\n",
    "df_nan = pd.DataFrame(data)\n",
    "df_nan\n",
    "\n",
    "print(df_nan.isnull())\n",
    "\n",
    "print(df_nan.dropna())\n",
    "\n",
    "print(df_nan.fillna({'Nome': 'Desconhecido', 'Idade': df_nan['Idade'].mean(), 'Cidade':'Nao informada'}))"
   ]
  },
  {
   "cell_type": "code",
   "execution_count": 40,
   "metadata": {},
   "outputs": [
    {
     "name": "stdout",
     "output_type": "stream",
     "text": [
      "14200\n",
      "2366.6666666666665\n"
     ]
    }
   ],
   "source": [
    "vendas = {\n",
    "    'Vendedor': ['Ana', 'Joao', 'Ana', 'Carlos', 'Joao', 'Maria'],\n",
    "    'Produto': ['TV', 'Notebook', 'Celular', 'TV', 'Celular', 'Notebook'],\n",
    "    'Valor': [2000, 3500, 1500, 2200, 1400, 3600],\n",
    "    'Data': ['2023-01-15', '2023-01-20', '2023-01-10', '2023-02-05', '2023-02-15', '2023-03-10']\n",
    "}\n",
    "\n",
    "df_vendas = pd.DataFrame(vendas)\n",
    "df_vendas['Data'] = pd.to_datetime(df_vendas['Data'])\n",
    "\n",
    "print(df_vendas['Valor'].sum())\n",
    "\n",
    "print(df_vendas['Valor'].mean())"
   ]
  },
  {
   "cell_type": "code",
   "execution_count": 41,
   "metadata": {},
   "outputs": [
    {
     "data": {
      "text/plain": [
       "<Axes: title={'center': 'Vendas por Produto'}, xlabel='Produto'>"
      ]
     },
     "execution_count": 41,
     "metadata": {},
     "output_type": "execute_result"
    },
    {
     "data": {
      "image/png": "[encoded data removed]",
      "text/plain": [
       "<Figure size 640x480 with 1 Axes>"
      ]
     },
     "metadata": {},
     "output_type": "display_data"
    }
   ],
   "source": [
    "df_vendas['Produto'].value_counts().plot(kind='bar', title='Vendas por Produto')"
   ]
  }
 ],
 "metadata": {
  "kernelspec": {
   "display_name": "Python 3",
   "language": "python",
   "name": "python3"
  },
  "language_info": {
   "codemirror_mode": {
    "name": "ipython",
    "version": 3
   },
   "file_extension": ".py",
   "mimetype": "text/x-python",
   "name": "python",
   "nbconvert_exporter": "python",
   "pygments_lexer": "ipython3",
   "version": "3.12.9"
  }
 },
 "nbformat": 4,
 "nbformat_minor": 2
}
