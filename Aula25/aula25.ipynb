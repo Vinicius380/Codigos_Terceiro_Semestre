{
 "cells": [
  {
   "cell_type": "code",
   "execution_count": 1,
   "metadata": {},
   "outputs": [],
   "source": [
    "import pandas as pd\n",
    "import json\n",
    "import numpy as np"
   ]
  },
  {
   "cell_type": "code",
   "execution_count": 2,
   "metadata": {},
   "outputs": [],
   "source": [
    "df1 = pd.DataFrame({'id': [1,2,3], 'name': ['A', 'B', 'C']})\n",
    "df2 = pd.DataFrame({'id': [2,3,4], 'idade':['20', '30', '40']})"
   ]
  },
  {
   "cell_type": "code",
   "execution_count": 3,
   "metadata": {},
   "outputs": [
    {
     "name": "stdout",
     "output_type": "stream",
     "text": [
      "   id name\n",
      "0   1    A\n",
      "1   2    B\n",
      "2   3    C\n",
      "   id idade\n",
      "0   2    20\n",
      "1   3    30\n",
      "2   4    40\n"
     ]
    }
   ],
   "source": [
    "print(df1)\n",
    "print(df2)"
   ]
  },
  {
   "cell_type": "code",
   "execution_count": 4,
   "metadata": {},
   "outputs": [
    {
     "data": {
      "text/html": [
       "<div>\n",
       "<style scoped>\n",
       "    .dataframe tbody tr th:only-of-type {\n",
       "        vertical-align: middle;\n",
       "    }\n",
       "\n",
       "    .dataframe tbody tr th {\n",
       "        vertical-align: top;\n",
       "    }\n",
       "\n",
       "    .dataframe thead th {\n",
       "        text-align: right;\n",
       "    }\n",
       "</style>\n",
       "<table border=\"1\" class=\"dataframe\">\n",
       "  <thead>\n",
       "    <tr style=\"text-align: right;\">\n",
       "      <th></th>\n",
       "      <th>id</th>\n",
       "      <th>name</th>\n",
       "      <th>idade</th>\n",
       "    </tr>\n",
       "  </thead>\n",
       "  <tbody>\n",
       "    <tr>\n",
       "      <th>0</th>\n",
       "      <td>2</td>\n",
       "      <td>B</td>\n",
       "      <td>20</td>\n",
       "    </tr>\n",
       "    <tr>\n",
       "      <th>1</th>\n",
       "      <td>3</td>\n",
       "      <td>C</td>\n",
       "      <td>30</td>\n",
       "    </tr>\n",
       "  </tbody>\n",
       "</table>\n",
       "</div>"
      ],
      "text/plain": [
       "   id name idade\n",
       "0   2    B    20\n",
       "1   3    C    30"
      ]
     },
     "execution_count": 4,
     "metadata": {},
     "output_type": "execute_result"
    }
   ],
   "source": [
    "df_inner = pd.merge(df1,df2, on='id', how='inner')\n",
    "\n",
    "df_inner"
   ]
  },
  {
   "cell_type": "code",
   "execution_count": 5,
   "metadata": {},
   "outputs": [
    {
     "data": {
      "text/html": [
       "<div>\n",
       "<style scoped>\n",
       "    .dataframe tbody tr th:only-of-type {\n",
       "        vertical-align: middle;\n",
       "    }\n",
       "\n",
       "    .dataframe tbody tr th {\n",
       "        vertical-align: top;\n",
       "    }\n",
       "\n",
       "    .dataframe thead th {\n",
       "        text-align: right;\n",
       "    }\n",
       "</style>\n",
       "<table border=\"1\" class=\"dataframe\">\n",
       "  <thead>\n",
       "    <tr style=\"text-align: right;\">\n",
       "      <th></th>\n",
       "      <th>id</th>\n",
       "      <th>name</th>\n",
       "      <th>idade</th>\n",
       "    </tr>\n",
       "  </thead>\n",
       "  <tbody>\n",
       "    <tr>\n",
       "      <th>0</th>\n",
       "      <td>1</td>\n",
       "      <td>A</td>\n",
       "      <td>NaN</td>\n",
       "    </tr>\n",
       "    <tr>\n",
       "      <th>1</th>\n",
       "      <td>2</td>\n",
       "      <td>B</td>\n",
       "      <td>20</td>\n",
       "    </tr>\n",
       "    <tr>\n",
       "      <th>2</th>\n",
       "      <td>3</td>\n",
       "      <td>C</td>\n",
       "      <td>30</td>\n",
       "    </tr>\n",
       "  </tbody>\n",
       "</table>\n",
       "</div>"
      ],
      "text/plain": [
       "   id name idade\n",
       "0   1    A   NaN\n",
       "1   2    B    20\n",
       "2   3    C    30"
      ]
     },
     "execution_count": 5,
     "metadata": {},
     "output_type": "execute_result"
    }
   ],
   "source": [
    "df_left = pd.merge(df1, df2, on='id', how='left')\n",
    "df_left"
   ]
  },
  {
   "cell_type": "code",
   "execution_count": 6,
   "metadata": {},
   "outputs": [
    {
     "data": {
      "text/html": [
       "<div>\n",
       "<style scoped>\n",
       "    .dataframe tbody tr th:only-of-type {\n",
       "        vertical-align: middle;\n",
       "    }\n",
       "\n",
       "    .dataframe tbody tr th {\n",
       "        vertical-align: top;\n",
       "    }\n",
       "\n",
       "    .dataframe thead th {\n",
       "        text-align: right;\n",
       "    }\n",
       "</style>\n",
       "<table border=\"1\" class=\"dataframe\">\n",
       "  <thead>\n",
       "    <tr style=\"text-align: right;\">\n",
       "      <th></th>\n",
       "      <th>id</th>\n",
       "      <th>name</th>\n",
       "      <th>idade</th>\n",
       "    </tr>\n",
       "  </thead>\n",
       "  <tbody>\n",
       "    <tr>\n",
       "      <th>0</th>\n",
       "      <td>2</td>\n",
       "      <td>B</td>\n",
       "      <td>20</td>\n",
       "    </tr>\n",
       "    <tr>\n",
       "      <th>1</th>\n",
       "      <td>3</td>\n",
       "      <td>C</td>\n",
       "      <td>30</td>\n",
       "    </tr>\n",
       "    <tr>\n",
       "      <th>2</th>\n",
       "      <td>4</td>\n",
       "      <td>NaN</td>\n",
       "      <td>40</td>\n",
       "    </tr>\n",
       "  </tbody>\n",
       "</table>\n",
       "</div>"
      ],
      "text/plain": [
       "   id name idade\n",
       "0   2    B    20\n",
       "1   3    C    30\n",
       "2   4  NaN    40"
      ]
     },
     "execution_count": 6,
     "metadata": {},
     "output_type": "execute_result"
    }
   ],
   "source": [
    "df_right = pd.merge(df1, df2, on='id', how='right')\n",
    "df_right"
   ]
  },
  {
   "cell_type": "code",
   "execution_count": 7,
   "metadata": {},
   "outputs": [
    {
     "data": {
      "text/html": [
       "<div>\n",
       "<style scoped>\n",
       "    .dataframe tbody tr th:only-of-type {\n",
       "        vertical-align: middle;\n",
       "    }\n",
       "\n",
       "    .dataframe tbody tr th {\n",
       "        vertical-align: top;\n",
       "    }\n",
       "\n",
       "    .dataframe thead th {\n",
       "        text-align: right;\n",
       "    }\n",
       "</style>\n",
       "<table border=\"1\" class=\"dataframe\">\n",
       "  <thead>\n",
       "    <tr style=\"text-align: right;\">\n",
       "      <th></th>\n",
       "      <th>id</th>\n",
       "      <th>name</th>\n",
       "      <th>idade</th>\n",
       "    </tr>\n",
       "  </thead>\n",
       "  <tbody>\n",
       "    <tr>\n",
       "      <th>0</th>\n",
       "      <td>1</td>\n",
       "      <td>A</td>\n",
       "      <td>NaN</td>\n",
       "    </tr>\n",
       "    <tr>\n",
       "      <th>1</th>\n",
       "      <td>2</td>\n",
       "      <td>B</td>\n",
       "      <td>20</td>\n",
       "    </tr>\n",
       "    <tr>\n",
       "      <th>2</th>\n",
       "      <td>3</td>\n",
       "      <td>C</td>\n",
       "      <td>30</td>\n",
       "    </tr>\n",
       "    <tr>\n",
       "      <th>3</th>\n",
       "      <td>4</td>\n",
       "      <td>NaN</td>\n",
       "      <td>40</td>\n",
       "    </tr>\n",
       "  </tbody>\n",
       "</table>\n",
       "</div>"
      ],
      "text/plain": [
       "   id name idade\n",
       "0   1    A   NaN\n",
       "1   2    B    20\n",
       "2   3    C    30\n",
       "3   4  NaN    40"
      ]
     },
     "execution_count": 7,
     "metadata": {},
     "output_type": "execute_result"
    }
   ],
   "source": [
    "df_outer = pd.merge(df1, df2, on='id', how='outer')\n",
    "df_outer"
   ]
  },
  {
   "cell_type": "code",
   "execution_count": 8,
   "metadata": {},
   "outputs": [
    {
     "data": {
      "text/plain": [
       "loja  categoria\n",
       "A     Comida        300\n",
       "      Eletro        100\n",
       "B     Eletro        600\n",
       "C     Eletro       2000\n",
       "      comida        100\n",
       "Name: valor, dtype: int64"
      ]
     },
     "execution_count": 8,
     "metadata": {},
     "output_type": "execute_result"
    }
   ],
   "source": [
    "df_vendas = pd.DataFrame({\n",
    "    'loja': ['A', 'A', 'B', 'C', 'B', 'C'],\n",
    "    'categoria': ['Eletro', 'Comida', 'Eletro', 'comida', 'Eletro', 'Eletro'],\n",
    "    'valor': [100, 300, 400, 100, 200, 2000],\n",
    "    'estoque': [12, 32, 15, 1231, 923, 512]\n",
    "})\n",
    "\n",
    "df_media = df_vendas.groupby('loja')['valor'].sum()\n",
    "df_media\n",
    "\n",
    "df_grouped = df_vendas.groupby(['loja', 'categoria'])['valor'].sum()\n",
    "df_grouped"
   ]
  },
  {
   "cell_type": "code",
   "execution_count": 9,
   "metadata": {},
   "outputs": [
    {
     "data": {
      "text/html": [
       "<div>\n",
       "<style scoped>\n",
       "    .dataframe tbody tr th:only-of-type {\n",
       "        vertical-align: middle;\n",
       "    }\n",
       "\n",
       "    .dataframe tbody tr th {\n",
       "        vertical-align: top;\n",
       "    }\n",
       "\n",
       "    .dataframe thead tr th {\n",
       "        text-align: left;\n",
       "    }\n",
       "\n",
       "    .dataframe thead tr:last-of-type th {\n",
       "        text-align: right;\n",
       "    }\n",
       "</style>\n",
       "<table border=\"1\" class=\"dataframe\">\n",
       "  <thead>\n",
       "    <tr>\n",
       "      <th></th>\n",
       "      <th colspan=\"3\" halign=\"left\">valor</th>\n",
       "      <th colspan=\"2\" halign=\"left\">estoque</th>\n",
       "    </tr>\n",
       "    <tr>\n",
       "      <th></th>\n",
       "      <th>sum</th>\n",
       "      <th>mean</th>\n",
       "      <th>max</th>\n",
       "      <th>count</th>\n",
       "      <th>min</th>\n",
       "    </tr>\n",
       "    <tr>\n",
       "      <th>loja</th>\n",
       "      <th></th>\n",
       "      <th></th>\n",
       "      <th></th>\n",
       "      <th></th>\n",
       "      <th></th>\n",
       "    </tr>\n",
       "  </thead>\n",
       "  <tbody>\n",
       "    <tr>\n",
       "      <th>A</th>\n",
       "      <td>400</td>\n",
       "      <td>200.0</td>\n",
       "      <td>300</td>\n",
       "      <td>2</td>\n",
       "      <td>12</td>\n",
       "    </tr>\n",
       "    <tr>\n",
       "      <th>B</th>\n",
       "      <td>600</td>\n",
       "      <td>300.0</td>\n",
       "      <td>400</td>\n",
       "      <td>2</td>\n",
       "      <td>15</td>\n",
       "    </tr>\n",
       "    <tr>\n",
       "      <th>C</th>\n",
       "      <td>2100</td>\n",
       "      <td>1050.0</td>\n",
       "      <td>2000</td>\n",
       "      <td>2</td>\n",
       "      <td>512</td>\n",
       "    </tr>\n",
       "  </tbody>\n",
       "</table>\n",
       "</div>"
      ],
      "text/plain": [
       "     valor               estoque     \n",
       "       sum    mean   max   count  min\n",
       "loja                                 \n",
       "A      400   200.0   300       2   12\n",
       "B      600   300.0   400       2   15\n",
       "C     2100  1050.0  2000       2  512"
      ]
     },
     "execution_count": 9,
     "metadata": {},
     "output_type": "execute_result"
    }
   ],
   "source": [
    "df_grouped = df_vendas.groupby('loja').agg({\n",
    "    'valor': ['sum', 'mean', 'max'],\n",
    "    'estoque': ['count', 'min' ]\n",
    "})\n",
    "\n",
    "df_grouped"
   ]
  },
  {
   "cell_type": "code",
   "execution_count": 10,
   "metadata": {},
   "outputs": [],
   "source": [
    "with open('data.json', 'r', encoding='utf-8') as f:\n",
    "    data=json.load(f)"
   ]
  },
  {
   "cell_type": "code",
   "execution_count": 11,
   "metadata": {},
   "outputs": [],
   "source": [
    "df_raiz = pd.DataFrame([{\n",
    "    'bid': d.get('business_id'),\n",
    "    'name': d.get('name'),\n",
    "    'cidade': d.get('city'),\n",
    "    'stars': d.get('stars'),\n",
    "    'categoria': d.get('categoria')\n",
    "} for d in data])"
   ]
  },
  {
   "cell_type": "code",
   "execution_count": 12,
   "metadata": {},
   "outputs": [
    {
     "name": "stdout",
     "output_type": "stream",
     "text": [
      "<class 'pandas.core.frame.DataFrame'>\n",
      "RangeIndex: 150346 entries, 0 to 150345\n",
      "Data columns (total 5 columns):\n",
      " #   Column     Non-Null Count   Dtype  \n",
      "---  ------     --------------   -----  \n",
      " 0   bid        150346 non-null  object \n",
      " 1   name       150346 non-null  object \n",
      " 2   cidade     150346 non-null  object \n",
      " 3   stars      150346 non-null  float64\n",
      " 4   categoria  150346 non-null  object \n",
      "dtypes: float64(1), object(4)\n",
      "memory usage: 5.7+ MB\n"
     ]
    }
   ],
   "source": [
    "df_raiz.fillna('Desconhecido', inplace=True)\n",
    "df_raiz.info()"
   ]
  },
  {
   "cell_type": "code",
   "execution_count": 13,
   "metadata": {},
   "outputs": [
    {
     "name": "stdout",
     "output_type": "stream",
     "text": [
      "<class 'pandas.core.frame.DataFrame'>\n",
      "RangeIndex: 150346 entries, 0 to 150345\n",
      "Data columns (total 3 columns):\n",
      " #   Column     Non-Null Count   Dtype  \n",
      "---  ------     --------------   -----  \n",
      " 0   bid        150346 non-null  object \n",
      " 1   latitude   150346 non-null  float64\n",
      " 2   longitude  150346 non-null  float64\n",
      "dtypes: float64(2), object(1)\n",
      "memory usage: 3.4+ MB\n"
     ]
    }
   ],
   "source": [
    "df_atributo = pd.DataFrame ([{\n",
    "    'bid': d.get('business_id'),\n",
    "    'latitude': d.get('latitude'),\n",
    "    'longitude': d.get('longitude')\n",
    "} for d in data])\n",
    "\n",
    "df_atributo.info()"
   ]
  },
  {
   "cell_type": "code",
   "execution_count": 14,
   "metadata": {},
   "outputs": [
    {
     "name": "stdout",
     "output_type": "stream",
     "text": [
      "                      bid     Sunday    Monday    Tuesday  Wednesday  \\\n",
      "0  Pns2l4eNsfO8kk83dixA6A    Fechado   Fechado    Fechado    Fechado   \n",
      "1  mpf3x-BjTdTEA3yCZrAYPw    Fechado   0:0-0:0  8:0-18:30  8:0-18:30   \n",
      "2  tUFrWirKiKi_TAnsVWINQQ   8:0-22:0  8:0-22:0   8:0-22:0   8:0-22:0   \n",
      "3  MTSW4McQd7CbVtyjqoe9mw   7:0-21:0  7:0-20:0   7:0-20:0   7:0-20:0   \n",
      "4  mWMc6_wTdE0EUBKIGXDVfA  12:0-18:0   Fechado    Fechado  14:0-22:0   \n",
      "\n",
      "    Thursday     Friday   Saturday  \n",
      "0    Fechado    Fechado    Fechado  \n",
      "1  8:0-18:30  8:0-18:30   8:0-14:0  \n",
      "2   8:0-22:0   8:0-23:0   8:0-23:0  \n",
      "3   7:0-20:0   7:0-21:0   7:0-21:0  \n",
      "4  16:0-22:0  12:0-22:0  12:0-22:0  \n"
     ]
    }
   ],
   "source": [
    "weekdays = ['Sunday','Monday', 'Tuesday', 'Wednesday', 'Thursday', 'Friday', 'Saturday']\n",
    "\n",
    "df_horas = pd.DataFrame([{\n",
    "     'bid': d.get('business_id'),\n",
    "     **{day: (d.get('hours') or {}).get(day, 'Fechado')   for day in weekdays}\n",
    "}for d in data])\n",
    "\n",
    "print(df_horas.head())"
   ]
  },
  {
   "cell_type": "code",
   "execution_count": 28,
   "metadata": {},
   "outputs": [
    {
     "name": "stdout",
     "output_type": "stream",
     "text": [
      "<class 'pandas.core.frame.DataFrame'>\n",
      "RangeIndex: 150346 entries, 0 to 150345\n",
      "Data columns (total 14 columns):\n",
      " #   Column     Non-Null Count   Dtype  \n",
      "---  ------     --------------   -----  \n",
      " 0   bid        150346 non-null  object \n",
      " 1   name       150346 non-null  object \n",
      " 2   cidade     150346 non-null  object \n",
      " 3   stars      150346 non-null  float64\n",
      " 4   categoria  150346 non-null  object \n",
      " 5   latitude   150346 non-null  float64\n",
      " 6   longitude  150346 non-null  float64\n",
      " 7   Sunday     150346 non-null  object \n",
      " 8   Monday     150346 non-null  object \n",
      " 9   Tuesday    150346 non-null  object \n",
      " 10  Wednesday  150346 non-null  object \n",
      " 11  Thursday   150346 non-null  object \n",
      " 12  Friday     150346 non-null  object \n",
      " 13  Saturday   150346 non-null  object \n",
      "dtypes: float64(3), object(11)\n",
      "memory usage: 16.1+ MB\n"
     ]
    }
   ],
   "source": [
    "df_completa = df_raiz.merge(df_atributo, on='bid', how='left').merge(df_horas, on='bid', how='left')\n",
    "df_completa.info()"
   ]
  },
  {
   "cell_type": "code",
   "execution_count": null,
   "metadata": {},
   "outputs": [
    {
     "data": {
      "text/html": [
       "<div>\n",
       "<style scoped>\n",
       "    .dataframe tbody tr th:only-of-type {\n",
       "        vertical-align: middle;\n",
       "    }\n",
       "\n",
       "    .dataframe tbody tr th {\n",
       "        vertical-align: top;\n",
       "    }\n",
       "\n",
       "    .dataframe thead th {\n",
       "        text-align: right;\n",
       "    }\n",
       "</style>\n",
       "<table border=\"1\" class=\"dataframe\">\n",
       "  <thead>\n",
       "    <tr style=\"text-align: right;\">\n",
       "      <th></th>\n",
       "      <th>bid</th>\n",
       "      <th>name</th>\n",
       "      <th>cidade</th>\n",
       "      <th>stars</th>\n",
       "      <th>categoria</th>\n",
       "      <th>latitude</th>\n",
       "      <th>longitude</th>\n",
       "      <th>Sunday</th>\n",
       "      <th>Monday</th>\n",
       "      <th>Tuesday</th>\n",
       "      <th>Wednesday</th>\n",
       "      <th>Thursday</th>\n",
       "      <th>Friday</th>\n",
       "      <th>Saturday</th>\n",
       "    </tr>\n",
       "  </thead>\n",
       "  <tbody>\n",
       "    <tr>\n",
       "      <th>0</th>\n",
       "      <td>Pns2l4eNsfO8kk83dixA6A</td>\n",
       "      <td>Abby Rappoport, LAC, CMQ</td>\n",
       "      <td>Santa Barbara</td>\n",
       "      <td>5.0</td>\n",
       "      <td>[Desconhecido]</td>\n",
       "      <td>34.426679</td>\n",
       "      <td>-119.711197</td>\n",
       "      <td>Fechado</td>\n",
       "      <td>Fechado</td>\n",
       "      <td>Fechado</td>\n",
       "      <td>Fechado</td>\n",
       "      <td>Fechado</td>\n",
       "      <td>Fechado</td>\n",
       "      <td>Fechado</td>\n",
       "    </tr>\n",
       "    <tr>\n",
       "      <th>1</th>\n",
       "      <td>mpf3x-BjTdTEA3yCZrAYPw</td>\n",
       "      <td>The UPS Store</td>\n",
       "      <td>Affton</td>\n",
       "      <td>3.0</td>\n",
       "      <td>[Desconhecido]</td>\n",
       "      <td>38.551126</td>\n",
       "      <td>-90.335695</td>\n",
       "      <td>Fechado</td>\n",
       "      <td>0:0-0:0</td>\n",
       "      <td>8:0-18:30</td>\n",
       "      <td>8:0-18:30</td>\n",
       "      <td>8:0-18:30</td>\n",
       "      <td>8:0-18:30</td>\n",
       "      <td>8:0-14:0</td>\n",
       "    </tr>\n",
       "    <tr>\n",
       "      <th>2</th>\n",
       "      <td>tUFrWirKiKi_TAnsVWINQQ</td>\n",
       "      <td>Target</td>\n",
       "      <td>Tucson</td>\n",
       "      <td>3.5</td>\n",
       "      <td>[Desconhecido]</td>\n",
       "      <td>32.223236</td>\n",
       "      <td>-110.880452</td>\n",
       "      <td>8:0-22:0</td>\n",
       "      <td>8:0-22:0</td>\n",
       "      <td>8:0-22:0</td>\n",
       "      <td>8:0-22:0</td>\n",
       "      <td>8:0-22:0</td>\n",
       "      <td>8:0-23:0</td>\n",
       "      <td>8:0-23:0</td>\n",
       "    </tr>\n",
       "    <tr>\n",
       "      <th>3</th>\n",
       "      <td>MTSW4McQd7CbVtyjqoe9mw</td>\n",
       "      <td>St Honore Pastries</td>\n",
       "      <td>Philadelphia</td>\n",
       "      <td>4.0</td>\n",
       "      <td>[Desconhecido]</td>\n",
       "      <td>39.955505</td>\n",
       "      <td>-75.155564</td>\n",
       "      <td>7:0-21:0</td>\n",
       "      <td>7:0-20:0</td>\n",
       "      <td>7:0-20:0</td>\n",
       "      <td>7:0-20:0</td>\n",
       "      <td>7:0-20:0</td>\n",
       "      <td>7:0-21:0</td>\n",
       "      <td>7:0-21:0</td>\n",
       "    </tr>\n",
       "    <tr>\n",
       "      <th>4</th>\n",
       "      <td>mWMc6_wTdE0EUBKIGXDVfA</td>\n",
       "      <td>Perkiomen Valley Brewery</td>\n",
       "      <td>Green Lane</td>\n",
       "      <td>4.5</td>\n",
       "      <td>[Desconhecido]</td>\n",
       "      <td>40.338183</td>\n",
       "      <td>-75.471659</td>\n",
       "      <td>12:0-18:0</td>\n",
       "      <td>Fechado</td>\n",
       "      <td>Fechado</td>\n",
       "      <td>14:0-22:0</td>\n",
       "      <td>16:0-22:0</td>\n",
       "      <td>12:0-22:0</td>\n",
       "      <td>12:0-22:0</td>\n",
       "    </tr>\n",
       "  </tbody>\n",
       "</table>\n",
       "</div>"
      ],
      "text/plain": [
       "                      bid                      name         cidade  stars  \\\n",
       "0  Pns2l4eNsfO8kk83dixA6A  Abby Rappoport, LAC, CMQ  Santa Barbara    5.0   \n",
       "1  mpf3x-BjTdTEA3yCZrAYPw             The UPS Store         Affton    3.0   \n",
       "2  tUFrWirKiKi_TAnsVWINQQ                    Target         Tucson    3.5   \n",
       "3  MTSW4McQd7CbVtyjqoe9mw        St Honore Pastries   Philadelphia    4.0   \n",
       "4  mWMc6_wTdE0EUBKIGXDVfA  Perkiomen Valley Brewery     Green Lane    4.5   \n",
       "\n",
       "        categoria   latitude   longitude     Sunday    Monday    Tuesday  \\\n",
       "0  [Desconhecido]  34.426679 -119.711197    Fechado   Fechado    Fechado   \n",
       "1  [Desconhecido]  38.551126  -90.335695    Fechado   0:0-0:0  8:0-18:30   \n",
       "2  [Desconhecido]  32.223236 -110.880452   8:0-22:0  8:0-22:0   8:0-22:0   \n",
       "3  [Desconhecido]  39.955505  -75.155564   7:0-21:0  7:0-20:0   7:0-20:0   \n",
       "4  [Desconhecido]  40.338183  -75.471659  12:0-18:0   Fechado    Fechado   \n",
       "\n",
       "   Wednesday   Thursday     Friday   Saturday  \n",
       "0    Fechado    Fechado    Fechado    Fechado  \n",
       "1  8:0-18:30  8:0-18:30  8:0-18:30   8:0-14:0  \n",
       "2   8:0-22:0   8:0-22:0   8:0-23:0   8:0-23:0  \n",
       "3   7:0-20:0   7:0-20:0   7:0-21:0   7:0-21:0  \n",
       "4  14:0-22:0  16:0-22:0  12:0-22:0  12:0-22:0  "
      ]
     },
     "execution_count": 29,
     "metadata": {},
     "output_type": "execute_result"
    }
   ],
   "source": [
    "df_split = df_completa.assign(categoria=df_completa[\"categoria\"].str.split(\", \"))\n",
    "df_split.head()"
   ]
  },
  {
   "cell_type": "code",
   "execution_count": 35,
   "metadata": {},
   "outputs": [
    {
     "data": {
      "text/plain": [
       "categoria\n",
       "[Desconhecido]    150346\n",
       "Name: count, dtype: int64"
      ]
     },
     "execution_count": 35,
     "metadata": {},
     "output_type": "execute_result"
    }
   ],
   "source": [
    "df_counts = df_split['categoria'].value_counts()\n",
    "df_counts.head(20)"
   ]
  }
 ],
 "metadata": {
  "kernelspec": {
   "display_name": "Python 3",
   "language": "python",
   "name": "python3"
  },
  "language_info": {
   "codemirror_mode": {
    "name": "ipython",
    "version": 3
   },
   "file_extension": ".py",
   "mimetype": "text/x-python",
   "name": "python",
   "nbconvert_exporter": "python",
   "pygments_lexer": "ipython3",
   "version": "3.12.9"
  }
 },
 "nbformat": 4,
 "nbformat_minor": 2
}
