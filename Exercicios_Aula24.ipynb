{
 "cells": [
  {
   "cell_type": "code",
   "execution_count": 1,
   "metadata": {
    "executionInfo": {
     "elapsed": 9,
     "status": "ok",
     "timestamp": 1740681108051,
     "user": {
      "displayName": "Arthur Gustavo de Araujo Ferreira",
      "userId": "17735774120082639904"
     },
     "user_tz": 180
    },
    "id": "aoyGVuaIrA2s"
   },
   "outputs": [],
   "source": [
    "import pandas as pd\n",
    "import json\n"
   ]
  },
  {
   "cell_type": "markdown",
   "metadata": {
    "id": "5RAT_ThOpiBp"
   },
   "source": [
    "\n",
    "\"\"\"\n",
    "# 📊 Exercícios: Manipulação de Dados JSON\n",
    "\n",
    "Nesta atividade, você praticará:\n",
    "1. Carregamento de arquivos JSON.\n",
    "2. Extração e normalização de dados aninhados.\n",
    "3. Filtragem e agregação de informações.\n",
    "4. Manipulação de categorias e horários comerciais.\n",
    "\n",
    "**Objetivo:** Aprofundar o entendimento sobre dados semi-estruturados através de desafios práticos.\n",
    "\n",
    "---\n",
    "\"\"\"\n",
    "\n",
    "\n",
    "# --- Exercício 1: Carregar um JSON salvo anteriormente ---\n",
    "\"\"\"\n",
    "## 1.1. Carregar um arquivo JSON\n",
    "\n",
    "- O arquivo disponível no classroom contém dados de estabelecimentos do Yelp.\n",
    "- Leia o arquivo `data.json` e carregue-o em um DataFrame.\n",
    "\"\"\"\n"
   ]
  },
  {
   "cell_type": "code",
   "execution_count": null,
   "metadata": {
    "id": "cbY8bQbwpmKH"
   },
   "outputs": [],
   "source": [
    "\n",
    "file_path = \"data.json\"  # Substituir pelo nome certo caso necessário\n",
    "\n",
    "\n",
    "with open(file_path, \"r\", encoding=\"utf-8\") as f:\n",
    "    data = json.load(f)\n",
    "\n",
    "\n",
    "# Exibir uma amostra\n",
    "data[:2]  # Mostra os 2 primeiros registros do JSON\n",
    "\n"
   ]
  },
  {
   "cell_type": "markdown",
   "metadata": {
    "id": "0qaNPLimpouU"
   },
   "source": [
    "\n",
    "\"\"\"\n",
    "### 🔹 Pergunta:\n",
    "Quantos registros existem no arquivo JSON?\n",
    "Dica: Utilize `len( )` para contar os elementos.\n",
    "\"\"\"\n"
   ]
  },
  {
   "cell_type": "code",
   "execution_count": null,
   "metadata": {
    "id": "jHcdQsSetnx2"
   },
   "outputs": [],
   "source": []
  },
  {
   "cell_type": "markdown",
   "metadata": {
    "id": "sLYlObz4tn5o"
   },
   "source": [
    "\n",
    "# --- Exercício 2: Criar um DataFrame com informações básicas ---\n",
    "\"\"\"\n",
    "## 2.1. Transformar o JSON em um DataFrame\n",
    "\n",
    "- Extraia apenas os seguintes campos para um DataFrame:\n",
    "  - `business_id`\n",
    "  - `name`\n",
    "  - `city`\n",
    "  - `stars`\n",
    "  - `review_count`\n",
    "  - `categories`\n",
    "- Exiba as **5 primeiras linhas**.\n",
    "\"\"\"\n"
   ]
  },
  {
   "cell_type": "code",
   "execution_count": null,
   "metadata": {
    "id": "RYaG7yKZprF2"
   },
   "outputs": [],
   "source": [
    "\n",
    "df_business = pd.DataFrame([{\n",
    "#    Criar os campos pedidos\n",
    "} for d in data])\n",
    "\n",
    "print(df_business.head())\n"
   ]
  },
  {
   "cell_type": "markdown",
   "metadata": {
    "id": "MGzORYjspttJ"
   },
   "source": [
    "\n",
    "\"\"\"\n",
    "### 🔹 Pergunta:\n",
    "Qual cidade tem o maior número de estabelecimentos registrados?\n",
    "Dica: Utilize `value_counts()` e `idxmax()` se quiser.\n",
    "\"\"\"\n",
    "\n"
   ]
  },
  {
   "cell_type": "code",
   "execution_count": null,
   "metadata": {
    "id": "0AVPEl9luDq0"
   },
   "outputs": [],
   "source": []
  },
  {
   "cell_type": "markdown",
   "metadata": {
    "id": "mw7h70kauD04"
   },
   "source": [
    "# --- Exercício 3: Trabalhar com Categorias ---\n",
    "\"\"\"\n",
    "## 3.1. Expandindo categorias em múltiplas linhas\n",
    "\n",
    "- A coluna `categories` contém múltiplos valores separados por vírgula.\n",
    "- Converta-a em uma lista e **exploda os valores** para transformar cada categoria em uma linha separada.\n",
    "\"\"\""
   ]
  },
  {
   "cell_type": "code",
   "execution_count": null,
   "metadata": {
    "id": "HC0ePHSGpwLz"
   },
   "outputs": [],
   "source": [
    "\n",
    "\n",
    "### \"df_exploded = ???\n",
    "\n",
    "print(df_exploded.head())\n"
   ]
  },
  {
   "cell_type": "markdown",
   "metadata": {
    "id": "f9qqSd5Hpx-g"
   },
   "source": [
    "\n",
    "\"\"\"\n",
    "### 🔹 Pergunta:\n",
    "Qual a categoria mais comum entre os estabelecimentos?\n",
    "Dica: Utilize `value_counts().head(10)`.\n",
    "\"\"\"\n",
    "\n"
   ]
  },
  {
   "cell_type": "code",
   "execution_count": null,
   "metadata": {
    "id": "hLrMc3rdz7jb"
   },
   "outputs": [],
   "source": []
  },
  {
   "cell_type": "markdown",
   "metadata": {
    "id": "IJd29wuRz78f"
   },
   "source": [
    "# --- Exercício 4: Trabalhar com Horários ---\n",
    "\"\"\"\n",
    "## 4.1. Criar um DataFrame com horários comerciais\n",
    "\n",
    "- Extraia os horários de funcionamento (se existirem) para cada estabelecimento.\n",
    "- Caso um estabelecimento não tenha horários, preencha com `\"Closed\"`.\n",
    "\"\"\"\n"
   ]
  },
  {
   "cell_type": "code",
   "execution_count": null,
   "metadata": {
    "id": "WX5CtlK0p0AC"
   },
   "outputs": [],
   "source": [
    "\n",
    "weekdays = [\"Monday\", \"Tuesday\", \"Wednesday\", \"Thursday\", \"Friday\", \"Saturday\", \"Sunday\"]\n",
    "\n",
    "df_hours = pd.DataFrame([\n",
    "    {\n",
    "####    ?????????\n",
    "    } for d in data\n",
    "])\n",
    "\n",
    "print(df_hours.head())\n"
   ]
  },
  {
   "cell_type": "markdown",
   "metadata": {
    "id": "3KXeDjVAp1eY"
   },
   "source": [
    "\n",
    "\"\"\"\n",
    "### 🔹 Pergunta:\n",
    "Quantos estabelecimentos estão fechados no domingo?\n",
    "\"\"\"\n"
   ]
  },
  {
   "cell_type": "code",
   "execution_count": null,
   "metadata": {
    "id": "43_uZLJ569bo"
   },
   "outputs": [],
   "source": []
  },
  {
   "cell_type": "markdown",
   "metadata": {
    "id": "L91_N6cP696y"
   },
   "source": [
    "\n",
    "# --- Exercício 5: Cruzando Informações ---\n",
    "\"\"\"\n",
    "## 5.1. Encontrar os restaurantes mais bem avaliados de uma cidade específica\n",
    "\n",
    "- Selecione apenas estabelecimentos da cidade **Tucson**.\n",
    "- Filtre apenas aqueles com a categoria **Restaurants**.\n",
    "- Ordene por **maior número de estrelas** e exiba os 10 primeiros.\n",
    "\"\"\"\n"
   ]
  },
  {
   "cell_type": "code",
   "execution_count": null,
   "metadata": {
    "id": "WMc9BouVp3IF"
   },
   "outputs": [],
   "source": [
    "\n",
    "####\n"
   ]
  },
  {
   "cell_type": "markdown",
   "metadata": {
    "id": "w3Oq9B9Zp4Yw"
   },
   "source": [
    "\n",
    "\"\"\"\n",
    "### 🔹 Pergunta:\n",
    "Qual é o restaurante mais bem avaliado em Tucson?\n",
    "Dica: Ordene o dataframe com sort_values(\"coluna\") em ordem descendente veja os primeiros elementos.\n",
    "\n",
    "Escolha aquele entre os 10 primeiros com mais estrelas e mais reviews.\n",
    "\"\"\"\n",
    "\n",
    "\n"
   ]
  },
  {
   "cell_type": "code",
   "execution_count": null,
   "metadata": {
    "id": "KqMG6TbyzDXY"
   },
   "outputs": [],
   "source": []
  },
  {
   "cell_type": "markdown",
   "metadata": {
    "id": "2m1aNeUo7AFx"
   },
   "source": [
    "\n",
    "# --- Exercício 6: Agrupando Informações ---\n",
    "\"\"\"\n",
    "## Qual a cidade com maior média de estrelas em seus restaurantes?\n",
    "\"\"\"\n"
   ]
  },
  {
   "cell_type": "code",
   "execution_count": null,
   "metadata": {
    "id": "bOnZ-21u7VhA"
   },
   "outputs": [],
   "source": [
    "df_business = pd.DataFrame([{\n",
    "    \"business_id\": d.get(\"business_id\"),\n",
    "    \"name\": d.get(\"name\"),\n",
    "    \"city\": d.get(\"city\"),\n",
    "    \"stars\": d.get(\"stars\"),\n",
    "    \"categories\": d.get(\"categories\")\n",
    "} for d in data])\n",
    "\n",
    "# Faça o split das categorias (\"categories\")\n",
    "\n",
    "# Filtre os restaurantes\n",
    "\n",
    "# Agrupe por cidade, calcule a média, e ordene\n",
    "\n",
    "# Exiba os valores\n"
   ]
  },
  {
   "cell_type": "markdown",
   "metadata": {
    "id": "mnIWjJy1zF6l"
   },
   "source": [
    "# 🚀 Parabéns!\n",
    "\"Exercícios concluídos! 🎉\"\n"
   ]
  },
  {
   "cell_type": "code",
   "execution_count": null,
   "metadata": {
    "id": "vR58ooRX2_G0"
   },
   "outputs": [],
   "source": []
  }
 ],
 "metadata": {
  "colab": {
   "authorship_tag": "ABX9TyNdTWMOdaqiaBq38z/+769N",
   "provenance": [
    {
     "file_id": "1QSBk64-mnVH9G_uualiajDqgNh4UY8D_",
     "timestamp": 1740680560939
    },
    {
     "file_id": "1ktIb7kXkTnMA4uTlfmwiWdjuTC6PPBxR",
     "timestamp": 1740618152061
    }
   ]
  },
  "kernelspec": {
   "display_name": "Python 3",
   "name": "python3"
  },
  "language_info": {
   "codemirror_mode": {
    "name": "ipython",
    "version": 3
   },
   "file_extension": ".py",
   "mimetype": "text/x-python",
   "name": "python",
   "nbconvert_exporter": "python",
   "pygments_lexer": "ipython3",
   "version": "3.12.9"
  }
 },
 "nbformat": 4,
 "nbformat_minor": 0
}
