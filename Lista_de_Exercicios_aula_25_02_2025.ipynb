{
  "cells": [
    {
      "cell_type": "markdown",
      "metadata": {
        "id": "7uMBPKZleMU6"
      },
      "source": [
        "# Lista de Exercicios"
      ]
    },
    {
      "cell_type": "markdown",
      "metadata": {
        "id": "IqHWKjoJfyq6"
      },
      "source": [
        "### Limpeza Inicial"
      ]
    },
    {
      "cell_type": "markdown",
      "metadata": {
        "id": "gVaKgSYjfHCN"
      },
      "source": [
        "Exercício 1: Removendo Espaços Extras e Padronizando Nomes\n",
        "\n",
        "Você recebeu um conjunto de dados com nomes de clientes escritos de forma inconsistente, contendo espaços extras e diferentes capitalizações.\n",
        "Escreva um código para limpar esses nomes, removendo os espaços em branco no início e no final e padronizando-os para a primeira letra maiúscula e o restante minúsculo."
      ]
    },
    {
      "cell_type": "code",
      "execution_count": 4,
      "metadata": {},
      "outputs": [
        {
          "data": {
            "text/html": [
              "<div>\n",
              "<style scoped>\n",
              "    .dataframe tbody tr th:only-of-type {\n",
              "        vertical-align: middle;\n",
              "    }\n",
              "\n",
              "    .dataframe tbody tr th {\n",
              "        vertical-align: top;\n",
              "    }\n",
              "\n",
              "    .dataframe thead th {\n",
              "        text-align: right;\n",
              "    }\n",
              "</style>\n",
              "<table border=\"1\" class=\"dataframe\">\n",
              "  <thead>\n",
              "    <tr style=\"text-align: right;\">\n",
              "      <th></th>\n",
              "      <th>Nome</th>\n",
              "    </tr>\n",
              "  </thead>\n",
              "  <tbody>\n",
              "    <tr>\n",
              "      <th>0</th>\n",
              "      <td>Ana</td>\n",
              "    </tr>\n",
              "    <tr>\n",
              "      <th>1</th>\n",
              "      <td>Bru no</td>\n",
              "    </tr>\n",
              "    <tr>\n",
              "      <th>2</th>\n",
              "      <td>Carlos</td>\n",
              "    </tr>\n",
              "    <tr>\n",
              "      <th>3</th>\n",
              "      <td>Daiela</td>\n",
              "    </tr>\n",
              "  </tbody>\n",
              "</table>\n",
              "</div>"
            ],
            "text/plain": [
              "     Nome\n",
              "0     Ana\n",
              "1  Bru no\n",
              "2  Carlos\n",
              "3  Daiela"
            ]
          },
          "execution_count": 4,
          "metadata": {},
          "output_type": "execute_result"
        }
      ],
      "source": [
        "import pandas as pd\n",
        "\n",
        "dados = {'Nome': ['Ana', 'Bru nO ', 'Carlos', 'DaieLA']}\n",
        "df = pd.DataFrame(dados)\n",
        "\n",
        "df['Nome'] = df['Nome'].str.strip().str.capitalize()\n",
        "df"
      ]
    },
    {
      "cell_type": "markdown",
      "metadata": {
        "id": "0D8SYGq_fSDc"
      },
      "source": [
        "Exercício 2: Removendo Caracteres Especiais e Convertendo Números\n",
        "\n",
        "Você tem um dataset onde os preços dos produtos foram registrados com um símbolo de moeda.\n",
        "Remova os caracteres não numéricos e converta os valores para o tipo correto."
      ]
    },
    {
      "cell_type": "code",
      "execution_count": 6,
      "metadata": {},
      "outputs": [
        {
          "name": "stderr",
          "output_type": "stream",
          "text": [
            "<>:4: SyntaxWarning: invalid escape sequence '\\d'\n",
            "<>:4: SyntaxWarning: invalid escape sequence '\\d'\n",
            "C:\\Users\\50749314877\\AppData\\Local\\Temp\\ipykernel_17396\\1611022377.py:4: SyntaxWarning: invalid escape sequence '\\d'\n",
            "  df['Salario'] = df['Salario'].str.extract('(\\d+)').astype(float)\n"
          ]
        },
        {
          "data": {
            "text/html": [
              "<div>\n",
              "<style scoped>\n",
              "    .dataframe tbody tr th:only-of-type {\n",
              "        vertical-align: middle;\n",
              "    }\n",
              "\n",
              "    .dataframe tbody tr th {\n",
              "        vertical-align: top;\n",
              "    }\n",
              "\n",
              "    .dataframe thead th {\n",
              "        text-align: right;\n",
              "    }\n",
              "</style>\n",
              "<table border=\"1\" class=\"dataframe\">\n",
              "  <thead>\n",
              "    <tr style=\"text-align: right;\">\n",
              "      <th></th>\n",
              "      <th>Salario</th>\n",
              "    </tr>\n",
              "  </thead>\n",
              "  <tbody>\n",
              "    <tr>\n",
              "      <th>0</th>\n",
              "      <td>3000.0</td>\n",
              "    </tr>\n",
              "    <tr>\n",
              "      <th>1</th>\n",
              "      <td>4000.0</td>\n",
              "    </tr>\n",
              "    <tr>\n",
              "      <th>2</th>\n",
              "      <td>5000.0</td>\n",
              "    </tr>\n",
              "    <tr>\n",
              "      <th>3</th>\n",
              "      <td>3000.0</td>\n",
              "    </tr>\n",
              "    <tr>\n",
              "      <th>4</th>\n",
              "      <td>4000.0</td>\n",
              "    </tr>\n",
              "  </tbody>\n",
              "</table>\n",
              "</div>"
            ],
            "text/plain": [
              "   Salario\n",
              "0   3000.0\n",
              "1   4000.0\n",
              "2   5000.0\n",
              "3   3000.0\n",
              "4   4000.0"
            ]
          },
          "execution_count": 6,
          "metadata": {},
          "output_type": "execute_result"
        }
      ],
      "source": [
        "dados = {'Salario': ['3000', '4000R$', '5000', '3000', '4000R$']}\n",
        "df = pd.DataFrame(dados)\n",
        "\n",
        "df['Salario'] = df['Salario'].str.extract('(\\d+)').astype(float)\n",
        "df"
      ]
    },
    {
      "cell_type": "markdown",
      "metadata": {
        "id": "1MjffxmSfSeK"
      },
      "source": [
        "Exercício 3: Removendo Duplicatas\n",
        "\n",
        "Em um dataset de clientes, alguns registros aparecem duplicados.\n",
        "Remova os registros repetidos e exiba o DataFrame atualizado."
      ]
    },
    {
      "cell_type": "code",
      "execution_count": 7,
      "metadata": {},
      "outputs": [
        {
          "data": {
            "text/html": [
              "<div>\n",
              "<style scoped>\n",
              "    .dataframe tbody tr th:only-of-type {\n",
              "        vertical-align: middle;\n",
              "    }\n",
              "\n",
              "    .dataframe tbody tr th {\n",
              "        vertical-align: top;\n",
              "    }\n",
              "\n",
              "    .dataframe thead th {\n",
              "        text-align: right;\n",
              "    }\n",
              "</style>\n",
              "<table border=\"1\" class=\"dataframe\">\n",
              "  <thead>\n",
              "    <tr style=\"text-align: right;\">\n",
              "      <th></th>\n",
              "      <th>Nome</th>\n",
              "    </tr>\n",
              "  </thead>\n",
              "  <tbody>\n",
              "    <tr>\n",
              "      <th>0</th>\n",
              "      <td>Ana</td>\n",
              "    </tr>\n",
              "    <tr>\n",
              "      <th>1</th>\n",
              "      <td>Bruno</td>\n",
              "    </tr>\n",
              "    <tr>\n",
              "      <th>4</th>\n",
              "      <td>Carlos</td>\n",
              "    </tr>\n",
              "  </tbody>\n",
              "</table>\n",
              "</div>"
            ],
            "text/plain": [
              "     Nome\n",
              "0     Ana\n",
              "1   Bruno\n",
              "4  Carlos"
            ]
          },
          "execution_count": 7,
          "metadata": {},
          "output_type": "execute_result"
        }
      ],
      "source": [
        "dados = {'Nome': ['Ana', 'Bruno ', 'ana', 'Bruno', 'carlos', 'Carlos']}\n",
        "\n",
        "df = pd.DataFrame(dados)\n",
        "df['Nome'] = df['Nome'].str.strip().str.capitalize()\n",
        "df = df.drop_duplicates()\n",
        "\n",
        "df"
      ]
    },
    {
      "cell_type": "markdown",
      "metadata": {
        "id": "z2sE69nHfTCu"
      },
      "source": [
        "Exercício 4: Convertendo Tipos de Dados\n",
        "\n",
        "Uma coluna de idades foi armazenada erroneamente como texto.\n",
        "Converta essa coluna para tipo numérico."
      ]
    },
    {
      "cell_type": "code",
      "execution_count": 11,
      "metadata": {},
      "outputs": [
        {
          "data": {
            "text/plain": [
              "dtype('int32')"
            ]
          },
          "execution_count": 11,
          "metadata": {},
          "output_type": "execute_result"
        }
      ],
      "source": [
        "dados = {'Idades': ['20', '30', '40', '8', '10']}\n",
        "\n",
        "df = pd.DataFrame(dados)\n",
        "df = df['Idades'].astype(int)\n",
        "\n",
        "df.dtypes"
      ]
    },
    {
      "cell_type": "markdown",
      "metadata": {
        "id": "D59g0j4jfmPw"
      },
      "source": [
        "Exercício 5: Padronizando Formato de Datas\n",
        "\n",
        "Um dataset contém datas em diferentes formatos.\n",
        "Padronize todas as datas para o formato YYYY-MM-DD."
      ]
    },
    {
      "cell_type": "code",
      "execution_count": 29,
      "metadata": {},
      "outputs": [
        {
          "data": {
            "text/html": [
              "<div>\n",
              "<style scoped>\n",
              "    .dataframe tbody tr th:only-of-type {\n",
              "        vertical-align: middle;\n",
              "    }\n",
              "\n",
              "    .dataframe tbody tr th {\n",
              "        vertical-align: top;\n",
              "    }\n",
              "\n",
              "    .dataframe thead th {\n",
              "        text-align: right;\n",
              "    }\n",
              "</style>\n",
              "<table border=\"1\" class=\"dataframe\">\n",
              "  <thead>\n",
              "    <tr style=\"text-align: right;\">\n",
              "      <th></th>\n",
              "      <th>datas</th>\n",
              "    </tr>\n",
              "  </thead>\n",
              "  <tbody>\n",
              "    <tr>\n",
              "      <th>0</th>\n",
              "      <td>2004-09-03</td>\n",
              "    </tr>\n",
              "    <tr>\n",
              "      <th>1</th>\n",
              "      <td>2020-03-06</td>\n",
              "    </tr>\n",
              "  </tbody>\n",
              "</table>\n",
              "</div>"
            ],
            "text/plain": [
              "       datas\n",
              "0 2004-09-03\n",
              "1 2020-03-06"
            ]
          },
          "execution_count": 29,
          "metadata": {},
          "output_type": "execute_result"
        }
      ],
      "source": [
        "dados = {'datas': ['9/3/2004', '3/6/2020']}\n",
        "\n",
        "df = pd.DataFrame(dados)\n",
        "\n",
        "df['datas'] = pd.to_datetime(df['datas'], format='%m/%d/%Y')\n",
        "df"
      ]
    },
    {
      "cell_type": "markdown",
      "metadata": {
        "id": "-Oh1hbVQf0mM"
      },
      "source": [
        "### Tratamento de Outliers"
      ]
    },
    {
      "cell_type": "markdown",
      "metadata": {
        "id": "4qD1hPHff4AA"
      },
      "source": [
        "Exercício 1: Identificando Outliers com Boxplot\n",
        "\n",
        "Gere um conjunto de dados e utilize um boxplot para visualizar possíveis outliers."
      ]
    },
    {
      "cell_type": "code",
      "execution_count": 33,
      "metadata": {},
      "outputs": [
        {
          "data": {
            "image/png": "[encoded data removed]",
            "text/plain": [
              "<Figure size 640x480 with 1 Axes>"
            ]
          },
          "metadata": {},
          "output_type": "display_data"
        }
      ],
      "source": [
        "import numpy as np\n",
        "import matplotlib.pyplot as plt\n",
        "\n",
        "dados = np.array([10, 12, 11, 10, 20, 9, 8, 10, 25, 12])\n",
        "\n",
        "plt.boxplot(dados)\n",
        "plt.show()"
      ]
    },
    {
      "cell_type": "markdown",
      "metadata": {
        "id": "hQJQF0zbf6uA"
      },
      "source": [
        "Exercício 2: Removendo Outliers Utilizando o IQR\n",
        "\n",
        "Detecte e remova os outliers utilizando a técnica do intervalo interquartil (IQR)."
      ]
    },
    {
      "cell_type": "code",
      "execution_count": 39,
      "metadata": {},
      "outputs": [
        {
          "data": {
            "image/png": "[encoded data removed]",
            "text/plain": [
              "<Figure size 640x480 with 1 Axes>"
            ]
          },
          "metadata": {},
          "output_type": "display_data"
        }
      ],
      "source": [
        "import numpy as np\n",
        "import matplotlib.pyplot as plt\n",
        "\n",
        "dados = np.array([10, 12, 11, 10, 20, 9, 8, 10, 25, 12])\n",
        "Q1 = np.percentile(dados, 25)\n",
        "Q3 = np.percentile(dados, 75)\n",
        "IQR = Q3 - Q1\n",
        "\n",
        "limite_inferior = Q1 - 1.5 * IQR\n",
        "limite_superior = Q3 + 1.5 * IQR\n",
        "\n",
        "dados_filtrados = dados[(dados >= limite_inferior) & (dados <= limite_superior)]\n",
        "\n",
        "plt.boxplot(dados_filtrados)\n",
        "plt.show()"
      ]
    },
    {
      "cell_type": "markdown",
      "metadata": {
        "id": "8rSbVjEZgAl2"
      },
      "source": [
        "Exercício 3: Substituindo Outliers pela Mediana\n",
        "\n",
        "Ao invés de remover os outliers, substitua-os pela mediana dos dados."
      ]
    },
    {
      "cell_type": "code",
      "execution_count": 50,
      "metadata": {},
      "outputs": [
        {
          "data": {
            "text/html": [
              "<div>\n",
              "<style scoped>\n",
              "    .dataframe tbody tr th:only-of-type {\n",
              "        vertical-align: middle;\n",
              "    }\n",
              "\n",
              "    .dataframe tbody tr th {\n",
              "        vertical-align: top;\n",
              "    }\n",
              "\n",
              "    .dataframe thead th {\n",
              "        text-align: right;\n",
              "    }\n",
              "</style>\n",
              "<table border=\"1\" class=\"dataframe\">\n",
              "  <thead>\n",
              "    <tr style=\"text-align: right;\">\n",
              "      <th></th>\n",
              "      <th>Idade</th>\n",
              "    </tr>\n",
              "  </thead>\n",
              "  <tbody>\n",
              "    <tr>\n",
              "      <th>0</th>\n",
              "      <td>10</td>\n",
              "    </tr>\n",
              "    <tr>\n",
              "      <th>1</th>\n",
              "      <td>15</td>\n",
              "    </tr>\n",
              "    <tr>\n",
              "      <th>2</th>\n",
              "      <td>12</td>\n",
              "    </tr>\n",
              "    <tr>\n",
              "      <th>3</th>\n",
              "      <td>13</td>\n",
              "    </tr>\n",
              "    <tr>\n",
              "      <th>4</th>\n",
              "      <td>14</td>\n",
              "    </tr>\n",
              "    <tr>\n",
              "      <th>5</th>\n",
              "      <td>50</td>\n",
              "    </tr>\n",
              "    <tr>\n",
              "      <th>6</th>\n",
              "      <td>15</td>\n",
              "    </tr>\n",
              "    <tr>\n",
              "      <th>7</th>\n",
              "      <td>10</td>\n",
              "    </tr>\n",
              "    <tr>\n",
              "      <th>8</th>\n",
              "      <td>18</td>\n",
              "    </tr>\n",
              "    <tr>\n",
              "      <th>9</th>\n",
              "      <td>16</td>\n",
              "    </tr>\n",
              "    <tr>\n",
              "      <th>10</th>\n",
              "      <td>15</td>\n",
              "    </tr>\n",
              "  </tbody>\n",
              "</table>\n",
              "</div>"
            ],
            "text/plain": [
              "    Idade\n",
              "0      10\n",
              "1      15\n",
              "2      12\n",
              "3      13\n",
              "4      14\n",
              "5      50\n",
              "6      15\n",
              "7      10\n",
              "8      18\n",
              "9      16\n",
              "10     15"
            ]
          },
          "execution_count": 50,
          "metadata": {},
          "output_type": "execute_result"
        }
      ],
      "source": [
        "import numpy as np\n",
        "import matplotlib.pyplot as plt\n",
        "\n",
        "dados = {'Idade': [10, 15, 12, 13, 14, 50, 20000000, 10, 18, 16, 2656646468486]}\n",
        "df = pd.DataFrame(dados)\n",
        "\n",
        "Q1 = df['Idade'].quantile(0.25)\n",
        "Q3 = df['Idade'].quantile(0.75)\n",
        "IQR = Q3 - Q1\n",
        "\n",
        "limite_inferior = Q1 - 1.5 * IQR\n",
        "limite_superior = Q3 + 1.5 * IQR\n",
        "\n",
        "\n",
        "\n",
        "outliers = (df['Idade'] < limite_inferior) | (df['Idade'] > limite_superior)\n",
        "\n",
        "mediana = df['Idade'].median()\n",
        "df.loc[outliers, 'Idade'] = mediana\n",
        "df"
      ]
    },
    {
      "cell_type": "markdown",
      "metadata": {
        "id": "8Rp1pBxkgF1a"
      },
      "source": [
        "Exercício 4: Detectando Outliers com Z-Score\n",
        "\n",
        "Utilize o Z-Score para identificar outliers."
      ]
    },
    {
      "cell_type": "code",
      "execution_count": 85,
      "metadata": {},
      "outputs": [
        {
          "data": {
            "text/plain": [
              "[123.30329553529484,\n",
              " 120.18831182212895,\n",
              " 124.96345827269018,\n",
              " 111.40999658452586,\n",
              " 161.63644718601617]"
            ]
          },
          "execution_count": 85,
          "metadata": {},
          "output_type": "execute_result"
        }
      ],
      "source": [
        "from scipy.stats import zscore\n",
        "\n",
        "\n",
        "dados_limpos = np.random.normal(loc=50, scale=10, size=100)\n",
        "ruidos = np.random.uniform(low=100, high=200, size=5)\n",
        "dados_com_ruido = np.concatenate([dados_limpos, ruidos])\n",
        "df = pd.DataFrame(dados_com_ruido, columns=[\"Valores\"])\n",
        "\n",
        "def detectar_outliers_zscore(dados, limiar=3):\n",
        "    z_scores = np.abs(zscore(dados))\n",
        "    return dados[z_scores > limiar]\n",
        "                                             \n",
        "outliers = detectar_outliers_zscore(df[\"Valores\"]) \n",
        "outliers.tolist()\n",
        "                                     "
      ]
    },
    {
      "cell_type": "markdown",
      "metadata": {
        "id": "oHv1GsWkgKsA"
      },
      "source": [
        "Exercício 5: Aplicando Log Transform para Reduzir Impacto de Outliers\n",
        "\n",
        "Transforme os dados utilizando logaritmo para reduzir o impacto dos outliers."
      ]
    },
    {
      "cell_type": "code",
      "execution_count": 88,
      "metadata": {},
      "outputs": [
        {
          "name": "stdout",
          "output_type": "stream",
          "text": [
            "            Idade  Idade_Log\n",
            "0              10   2.397895\n",
            "1              15   2.772589\n",
            "2              12   2.564949\n",
            "3              13   2.639057\n",
            "4              14   2.708050\n",
            "5              50   3.931826\n",
            "6        20000000  16.811243\n",
            "7              10   2.397895\n",
            "8              18   2.944439\n",
            "9              16   2.833213\n",
            "10  2656646468486  28.608086\n"
          ]
        }
      ],
      "source": [
        "import numpy as np\n",
        "import pandas as pd\n",
        "\n",
        "dados = {'Idade': [10, 15, 12, 13, 14, 50, 20000000, 10, 18, 16, 2656646468486]}\n",
        "df = pd.DataFrame(dados)\n",
        "\n",
        "df['Idade_Log'] = np.log1p(df['Idade'])\n",
        "print(df)"
      ]
    },
    {
      "cell_type": "markdown",
      "metadata": {
        "id": "s_OQ9D0wgNOq"
      },
      "source": [
        "### Tratamento com Valores Ausentes"
      ]
    },
    {
      "cell_type": "markdown",
      "metadata": {
        "id": "ovUw6b_dgPIu"
      },
      "source": [
        "Exercício 1: Identificando Valores Ausentes\n",
        "\n",
        "Crie um DataFrame e identifique os valores ausentes."
      ]
    },
    {
      "cell_type": "code",
      "execution_count": null,
      "metadata": {},
      "outputs": [
        {
          "data": {
            "text/plain": [
              "Nome     1\n",
              "Idade    2\n",
              "dtype: int64"
            ]
          },
          "execution_count": 94,
          "metadata": {},
          "output_type": "execute_result"
        }
      ],
      "source": [
        "import pandas as pd\n",
        "import numpy as np\n",
        "\n",
        "dados = {\n",
        "    'Nome': ['Alice', 'Bob', np.nan, 'David', 'Emma'],\n",
        "    'Idade': [25, np.nan, 30, 22, np.nan]}\n",
        "\n",
        "df = pd.DataFrame(dados)\n",
        "\n",
        "df.isnull().sum()"
      ]
    },
    {
      "cell_type": "markdown",
      "metadata": {
        "id": "aj4fafQ9gW5i"
      },
      "source": [
        "Exercício 2: Removendo Valores Ausentes\n",
        "\n",
        "Remova os registros que possuem valores ausentes."
      ]
    },
    {
      "cell_type": "code",
      "execution_count": 95,
      "metadata": {},
      "outputs": [
        {
          "data": {
            "text/html": [
              "<div>\n",
              "<style scoped>\n",
              "    .dataframe tbody tr th:only-of-type {\n",
              "        vertical-align: middle;\n",
              "    }\n",
              "\n",
              "    .dataframe tbody tr th {\n",
              "        vertical-align: top;\n",
              "    }\n",
              "\n",
              "    .dataframe thead th {\n",
              "        text-align: right;\n",
              "    }\n",
              "</style>\n",
              "<table border=\"1\" class=\"dataframe\">\n",
              "  <thead>\n",
              "    <tr style=\"text-align: right;\">\n",
              "      <th></th>\n",
              "      <th>Nome</th>\n",
              "      <th>Idade</th>\n",
              "    </tr>\n",
              "  </thead>\n",
              "  <tbody>\n",
              "    <tr>\n",
              "      <th>0</th>\n",
              "      <td>Alice</td>\n",
              "      <td>25.0</td>\n",
              "    </tr>\n",
              "    <tr>\n",
              "      <th>3</th>\n",
              "      <td>David</td>\n",
              "      <td>22.0</td>\n",
              "    </tr>\n",
              "  </tbody>\n",
              "</table>\n",
              "</div>"
            ],
            "text/plain": [
              "    Nome  Idade\n",
              "0  Alice   25.0\n",
              "3  David   22.0"
            ]
          },
          "execution_count": 95,
          "metadata": {},
          "output_type": "execute_result"
        }
      ],
      "source": [
        "import pandas as pd\n",
        "import numpy as np\n",
        "\n",
        "# Criando um DataFrame com valores ausentes\n",
        "dados = {\n",
        "    'Nome': ['Alice', 'Bob', np.nan, 'David', 'Emma'],\n",
        "    'Idade': [25, np.nan, 30, 22, np.nan]}\n",
        "\n",
        "df = pd.DataFrame(dados)\n",
        "\n",
        "df.dropna()"
      ]
    },
    {
      "cell_type": "markdown",
      "metadata": {
        "id": "YDjXUg6-haFQ"
      },
      "source": [
        "Exercício 3: Substituindo Valores Ausentes pela Média\n",
        "\n",
        "Preencha os valores ausentes com a média da coluna."
      ]
    },
    {
      "cell_type": "code",
      "execution_count": 103,
      "metadata": {},
      "outputs": [
        {
          "data": {
            "text/html": [
              "<div>\n",
              "<style scoped>\n",
              "    .dataframe tbody tr th:only-of-type {\n",
              "        vertical-align: middle;\n",
              "    }\n",
              "\n",
              "    .dataframe tbody tr th {\n",
              "        vertical-align: top;\n",
              "    }\n",
              "\n",
              "    .dataframe thead th {\n",
              "        text-align: right;\n",
              "    }\n",
              "</style>\n",
              "<table border=\"1\" class=\"dataframe\">\n",
              "  <thead>\n",
              "    <tr style=\"text-align: right;\">\n",
              "      <th></th>\n",
              "      <th>Nome</th>\n",
              "      <th>Idade</th>\n",
              "    </tr>\n",
              "  </thead>\n",
              "  <tbody>\n",
              "    <tr>\n",
              "      <th>0</th>\n",
              "      <td>Alice</td>\n",
              "      <td>25.000000</td>\n",
              "    </tr>\n",
              "    <tr>\n",
              "      <th>1</th>\n",
              "      <td>Bob</td>\n",
              "      <td>25.666667</td>\n",
              "    </tr>\n",
              "    <tr>\n",
              "      <th>2</th>\n",
              "      <td>NaN</td>\n",
              "      <td>30.000000</td>\n",
              "    </tr>\n",
              "    <tr>\n",
              "      <th>3</th>\n",
              "      <td>David</td>\n",
              "      <td>22.000000</td>\n",
              "    </tr>\n",
              "    <tr>\n",
              "      <th>4</th>\n",
              "      <td>Emma</td>\n",
              "      <td>25.666667</td>\n",
              "    </tr>\n",
              "  </tbody>\n",
              "</table>\n",
              "</div>"
            ],
            "text/plain": [
              "    Nome      Idade\n",
              "0  Alice  25.000000\n",
              "1    Bob  25.666667\n",
              "2    NaN  30.000000\n",
              "3  David  22.000000\n",
              "4   Emma  25.666667"
            ]
          },
          "execution_count": 103,
          "metadata": {},
          "output_type": "execute_result"
        }
      ],
      "source": [
        "import pandas as pd\n",
        "import numpy as np\n",
        "\n",
        "dados = {\n",
        "    'Nome': ['Alice', 'Bob', np.nan, 'David', 'Emma'],\n",
        "    'Idade': [25, np.nan, 30, 22, np.nan]}\n",
        "\n",
        "df = pd.DataFrame(dados)\n",
        "\n",
        "df['Idade'] = df['Idade'].fillna(df['Idade'].mean())\n",
        "\n",
        "df"
      ]
    },
    {
      "cell_type": "markdown",
      "metadata": {
        "id": "fo2cMtBOhdDN"
      },
      "source": [
        "Exercício 4: Substituindo Valores Ausentes com Interpolação\n",
        "\n",
        "Utilize a interpolação para preencher os valores ausentes."
      ]
    },
    {
      "cell_type": "code",
      "execution_count": 97,
      "metadata": {},
      "outputs": [
        {
          "name": "stdout",
          "output_type": "stream",
          "text": [
            "DataFrame após interpolação:\n",
            "    Nome  Idade\n",
            "0  Alice   25.0\n",
            "1    Bob   27.5\n",
            "2    NaN   30.0\n",
            "3  David   22.0\n",
            "4   Emma   22.0\n"
          ]
        }
      ],
      "source": [
        "import pandas as pd\n",
        "import numpy as np\n",
        "\n",
        "dados = {\n",
        "    'Nome': ['Alice', 'Bob', np.nan, 'David', 'Emma'],\n",
        "    'Idade': [25, np.nan, 30, 22, np.nan]}\n",
        "\n",
        "df = pd.DataFrame(dados)\n",
        "\n",
        "df['Idade'] = df['Idade'].interpolate()\n",
        "\n",
        "print(\"DataFrame após interpolação:\")\n",
        "print(df)\n"
      ]
    },
    {
      "cell_type": "markdown",
      "metadata": {
        "id": "ornA3Hhbhf_2"
      },
      "source": [
        "Exercício 5: Substituindo Valores Ausentes com a Mediana\n",
        "\n",
        "Preencha os valores ausentes com a mediana da coluna."
      ]
    },
    {
      "cell_type": "code",
      "execution_count": 105,
      "metadata": {},
      "outputs": [
        {
          "data": {
            "text/html": [
              "<div>\n",
              "<style scoped>\n",
              "    .dataframe tbody tr th:only-of-type {\n",
              "        vertical-align: middle;\n",
              "    }\n",
              "\n",
              "    .dataframe tbody tr th {\n",
              "        vertical-align: top;\n",
              "    }\n",
              "\n",
              "    .dataframe thead th {\n",
              "        text-align: right;\n",
              "    }\n",
              "</style>\n",
              "<table border=\"1\" class=\"dataframe\">\n",
              "  <thead>\n",
              "    <tr style=\"text-align: right;\">\n",
              "      <th></th>\n",
              "      <th>Nome</th>\n",
              "      <th>Idade</th>\n",
              "    </tr>\n",
              "  </thead>\n",
              "  <tbody>\n",
              "    <tr>\n",
              "      <th>0</th>\n",
              "      <td>Alice</td>\n",
              "      <td>25.0</td>\n",
              "    </tr>\n",
              "    <tr>\n",
              "      <th>1</th>\n",
              "      <td>Bob</td>\n",
              "      <td>25.0</td>\n",
              "    </tr>\n",
              "    <tr>\n",
              "      <th>2</th>\n",
              "      <td>NaN</td>\n",
              "      <td>30.0</td>\n",
              "    </tr>\n",
              "    <tr>\n",
              "      <th>3</th>\n",
              "      <td>David</td>\n",
              "      <td>22.0</td>\n",
              "    </tr>\n",
              "    <tr>\n",
              "      <th>4</th>\n",
              "      <td>Emma</td>\n",
              "      <td>25.0</td>\n",
              "    </tr>\n",
              "  </tbody>\n",
              "</table>\n",
              "</div>"
            ],
            "text/plain": [
              "    Nome  Idade\n",
              "0  Alice   25.0\n",
              "1    Bob   25.0\n",
              "2    NaN   30.0\n",
              "3  David   22.0\n",
              "4   Emma   25.0"
            ]
          },
          "execution_count": 105,
          "metadata": {},
          "output_type": "execute_result"
        }
      ],
      "source": [
        "import pandas as pd\n",
        "import numpy as np\n",
        "\n",
        "dados = {\n",
        "    'Nome': ['Alice', 'Bob', np.nan, 'David', 'Emma'],\n",
        "    'Idade': [25, np.nan, 30, 22, np.nan]}\n",
        "\n",
        "df = pd.DataFrame(dados)\n",
        "\n",
        "df['Idade'] = df['Idade'].fillna(df['Idade'].median())\n",
        "\n",
        "df"
      ]
    }
  ],
  "metadata": {
    "colab": {
      "provenance": []
    },
    "kernelspec": {
      "display_name": "Python 3",
      "name": "python3"
    },
    "language_info": {
      "codemirror_mode": {
        "name": "ipython",
        "version": 3
      },
      "file_extension": ".py",
      "mimetype": "text/x-python",
      "name": "python",
      "nbconvert_exporter": "python",
      "pygments_lexer": "ipython3",
      "version": "3.12.9"
    }
  },
  "nbformat": 4,
  "nbformat_minor": 0
}
