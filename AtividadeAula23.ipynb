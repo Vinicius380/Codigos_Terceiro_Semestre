{
 "cells": [
  {
   "cell_type": "markdown",
   "metadata": {
    "id": "2pzBmhALi3nl"
   },
   "source": [
    "# 📊 Exercícios Práticos: Coleta e Preparação de Dados com APIs\n",
    "\n",
    "## Objetivo:\n",
    "- Explorar diferentes APIs públicas.\n",
    "- Coletar, processar e armazenar dados usando Pandas.\n",
    "- Praticar manipulação de dados e tratamento de erros.\n",
    "---\n"
   ]
  },
  {
   "cell_type": "markdown",
   "metadata": {
    "id": "mmOKEGeNi3nm"
   },
   "source": [
    "## 📌 Exercício 1: Explorando Outra API\n",
    "\n",
    "**Tarefa:**\n",
    "- Escolha uma API pública diferente do Open-Meteo.\n",
    "- Faça uma requisição e converta os dados em um DataFrame.\n",
    "- Exiba as primeiras 5 linhas.\n",
    "\n",
    "**Sugestões de APIs:**\n",
    "1. NASA API: https://api.nasa.gov/\n",
    "2. The Dog API: https://thedogapi.com/\n",
    "3. PokéAPI: https://pokeapi.co/\n",
    "\n",
    "**Dicas:**\n",
    "- Utilize `requests.get()` para obter os dados.\n",
    "- Extraia apenas os campos mais relevantes do JSON."
   ]
  },
  {
   "cell_type": "code",
   "execution_count": 30,
   "metadata": {
    "id": "8Q-_Oc8KYT69"
   },
   "outputs": [
    {
     "data": {
      "text/html": [
       "<div>\n",
       "<style scoped>\n",
       "    .dataframe tbody tr th:only-of-type {\n",
       "        vertical-align: middle;\n",
       "    }\n",
       "\n",
       "    .dataframe tbody tr th {\n",
       "        vertical-align: top;\n",
       "    }\n",
       "\n",
       "    .dataframe thead th {\n",
       "        text-align: right;\n",
       "    }\n",
       "</style>\n",
       "<table border=\"1\" class=\"dataframe\">\n",
       "  <thead>\n",
       "    <tr style=\"text-align: right;\">\n",
       "      <th></th>\n",
       "      <th>weight</th>\n",
       "      <th>origin</th>\n",
       "      <th>name</th>\n",
       "    </tr>\n",
       "  </thead>\n",
       "  <tbody>\n",
       "    <tr>\n",
       "      <th>0</th>\n",
       "      <td>{'imperial': '6 - 13', 'metric': '3 - 6'}</td>\n",
       "      <td>Germany, France</td>\n",
       "      <td>Affenpinscher</td>\n",
       "    </tr>\n",
       "    <tr>\n",
       "      <th>1</th>\n",
       "      <td>{'imperial': '50 - 60', 'metric': '23 - 27'}</td>\n",
       "      <td>Afghanistan, Iran, Pakistan</td>\n",
       "      <td>Afghan Hound</td>\n",
       "    </tr>\n",
       "    <tr>\n",
       "      <th>2</th>\n",
       "      <td>{'imperial': '44 - 66', 'metric': '20 - 30'}</td>\n",
       "      <td></td>\n",
       "      <td>African Hunting Dog</td>\n",
       "    </tr>\n",
       "    <tr>\n",
       "      <th>3</th>\n",
       "      <td>{'imperial': '40 - 65', 'metric': '18 - 29'}</td>\n",
       "      <td>United Kingdom, England</td>\n",
       "      <td>Airedale Terrier</td>\n",
       "    </tr>\n",
       "    <tr>\n",
       "      <th>4</th>\n",
       "      <td>{'imperial': '90 - 120', 'metric': '41 - 54'}</td>\n",
       "      <td></td>\n",
       "      <td>Akbash Dog</td>\n",
       "    </tr>\n",
       "  </tbody>\n",
       "</table>\n",
       "</div>"
      ],
      "text/plain": [
       "                                          weight                       origin  \\\n",
       "0      {'imperial': '6 - 13', 'metric': '3 - 6'}              Germany, France   \n",
       "1   {'imperial': '50 - 60', 'metric': '23 - 27'}  Afghanistan, Iran, Pakistan   \n",
       "2   {'imperial': '44 - 66', 'metric': '20 - 30'}                                \n",
       "3   {'imperial': '40 - 65', 'metric': '18 - 29'}      United Kingdom, England   \n",
       "4  {'imperial': '90 - 120', 'metric': '41 - 54'}                                \n",
       "\n",
       "                  name  \n",
       "0        Affenpinscher  \n",
       "1         Afghan Hound  \n",
       "2  African Hunting Dog  \n",
       "3     Airedale Terrier  \n",
       "4           Akbash Dog  "
      ]
     },
     "execution_count": 30,
     "metadata": {},
     "output_type": "execute_result"
    }
   ],
   "source": [
    "#Exercício 1\n",
    "\n",
    "import pandas as pd\n",
    "import requests\n",
    "\n",
    "url = \"https://api.thedogapi.com/v1/breeds\"\n",
    "\n",
    "response = requests.get(url)\n",
    "\n",
    "dados = response.json()\n",
    "\n",
    "df = pd.DataFrame(dados)\n",
    "\n",
    "campos = df[[\"weight\", \"origin\", \"name\"]]\n",
    "\n",
    "campos.head()"
   ]
  },
  {
   "cell_type": "markdown",
   "metadata": {
    "id": "UFE0BKSii3nn"
   },
   "source": [
    "## 📌 Exercício 2: Coletando e Filtrando Dados Climáticos\n",
    "\n",
    "**Tarefa:**\n",
    "- Modifique a requisição para obter **dados diários** do Open-Meteo.\n",
    "- Filtre os dados para uma **data específica**.\n",
    "- Salve a temperatura em um CSV.\n",
    "\n",
    "\n",
    "### Dicas:\n",
    "\n",
    "- Filtre o DataFrame para uma data específica usando `.str.startswith()`.\n",
    "- Separe somente os dados dos próximo dois dias.\n",
    "- Utilize `to_csv()` para salvar os dados.\n",
    "\"\"\"\n"
   ]
  },
  {
   "cell_type": "code",
   "execution_count": null,
   "metadata": {
    "id": "Tr7EJpjvi3nn"
   },
   "outputs": [],
   "source": [
    "import pandas as pd\n",
    "import requests\n",
    "\n",
    "dataInicial = '2024-01-01'\n",
    "dataFinal = '2025-12-31'\n",
    "\n",
    "url = f\"https://api.open-meteo.com/v1/forecast?latitude=-23.55&longitude=-46.63&dataInicial={dataInicial}&dataFinal={dataFinal}&hourly=temperature_2m&timezone=America/Sao_Paulo\"\n",
    "response = requests.get(url)\n",
    "\n",
    "if response.status_code == 200:\n",
    "    data = response.json()\n",
    "    hourly_data = data.get(\"hourly\", {})\n",
    "    daily_data = data.get(\"daily\", {})\n",
    "    time_hourly = hourly_data.get(\"time\", [])\n",
    "    temperatura = hourly_data.get(\"temperature_2m\", [])\n",
    "    df_temperatura= pd.DataFrame({'datetime': time_hourly, 'temperature_2m': temperatura}) \n",
    "    df_temperatura.to_csv(\"temperatura.csv\")\n",
    "else:\n",
    "    print(\"Erro:\", response.status_code)"
   ]
  },
  {
   "cell_type": "markdown",
   "metadata": {
    "id": "_QM1rThMi3nn"
   },
   "source": [
    "## 📌 Exercício 3: Lidando com Erros de API\n",
    "\n",
    "**Tarefa:**\n",
    "- Faça uma requisição errada para a API (ex.: remova `latitude`).\n",
    "- Imprima o código de status HTTP e a mensagem de erro.\n",
    "- Ajuste a requisição até obter sucesso.\n",
    "\n",
    "### Dicas:\n",
    "- Utilize `response.status_code` para verificar erros.\n",
    "- Teste modificar a URL propositalmente para entender os erros.\n",
    "\"\"\""
   ]
  },
  {
   "cell_type": "code",
   "execution_count": 44,
   "metadata": {
    "id": "eB82dc7Ii3nn"
   },
   "outputs": [
    {
     "name": "stdout",
     "output_type": "stream",
     "text": [
      "Erro: 200\n",
      "Erro: 400\n"
     ]
    }
   ],
   "source": [
    "latitude = -23.55\n",
    "longitude = -46.63\n",
    "\n",
    "def test_api_error():\n",
    "    api_url = f\"https://api.open-meteo.com/v1/forecast?longitude={longitude}&latitude={latitude}&daily=temperature_2m_max&timezone=America/Sao_Paulo\" \n",
    "    response = requests.get(api_url)\n",
    "    print(\"Erro:\",response.status_code)\n",
    "\n",
    "    api_url2 = f\"https://api.open-meteo.com/v1/forecast?&latitude=none&daily=temperature_2m_max&timezone=America/Sao_Paulo\"  \n",
    "    response = requests.get(api_url2)\n",
    "    print(\"Erro:\",response.status_code)\n",
    "\n",
    "test_api_error()"
   ]
  },
  {
   "cell_type": "markdown",
   "metadata": {
    "id": "aFInVgVCi3nn"
   },
   "source": [
    "## 📌 Exercício 4: Automatizando Múltiplas Requisições\n",
    "\n",
    "**Tarefa:**\n",
    "- Modifique a função `fetch_weather_data()` para coletar dados de múltiplas cidades.\n",
    "- Salve um CSV separado para cada cidade.\n",
    "\n",
    "**Dicas**\n",
    "- Utilize um loop for para iterar sobre as localizações diferentes\n",
    "- Crie URLs dinâmicas com `f\"string\"`.\n",
    "\"\"\""
   ]
  },
  {
   "cell_type": "code",
   "execution_count": 45,
   "metadata": {
    "id": "VZbXr6n_i3no"
   },
   "outputs": [
    {
     "ename": "TypeError",
     "evalue": "list indices must be integers or slices, not str",
     "output_type": "error",
     "traceback": [
      "\u001b[1;31m---------------------------------------------------------------------------\u001b[0m",
      "\u001b[1;31mTypeError\u001b[0m                                 Traceback (most recent call last)",
      "Cell \u001b[1;32mIn[45], line 13\u001b[0m\n\u001b[0;32m      9\u001b[0m       cidade \u001b[38;5;241m=\u001b[39m cities[\u001b[38;5;124m'\u001b[39m\u001b[38;5;124mname\u001b[39m\u001b[38;5;124m'\u001b[39m]\n\u001b[0;32m     10\u001b[0m       cidade\u001b[38;5;241m.\u001b[39mto_csv(\u001b[38;5;124m\"\u001b[39m\u001b[38;5;124mCidades\u001b[39m\u001b[38;5;124m\"\u001b[39m)\n\u001b[1;32m---> 13\u001b[0m \u001b[43mfetch_multiple_locations\u001b[49m\u001b[43m(\u001b[49m\u001b[43m)\u001b[49m\n",
      "Cell \u001b[1;32mIn[45], line 9\u001b[0m, in \u001b[0;36mfetch_multiple_locations\u001b[1;34m()\u001b[0m\n\u001b[0;32m      7\u001b[0m \u001b[38;5;66;03m#### Acessar os dados das 3 cidades\u001b[39;00m\n\u001b[0;32m      8\u001b[0m \u001b[38;5;28;01mfor\u001b[39;00m name \u001b[38;5;129;01min\u001b[39;00m cities:\n\u001b[1;32m----> 9\u001b[0m   cidade \u001b[38;5;241m=\u001b[39m \u001b[43mcities\u001b[49m\u001b[43m[\u001b[49m\u001b[38;5;124;43m'\u001b[39;49m\u001b[38;5;124;43mname\u001b[39;49m\u001b[38;5;124;43m'\u001b[39;49m\u001b[43m]\u001b[49m\n\u001b[0;32m     10\u001b[0m   cidade\u001b[38;5;241m.\u001b[39mto_csv(\u001b[38;5;124m\"\u001b[39m\u001b[38;5;124mCidades\u001b[39m\u001b[38;5;124m\"\u001b[39m)\n",
      "\u001b[1;31mTypeError\u001b[0m: list indices must be integers or slices, not str"
     ]
    }
   ],
   "source": [
    "def fetch_multiple_locations():\n",
    "    cities = [\n",
    "        {\"lat\": -23.55, \"lon\": -46.63, \"name\": \"Sao_Paulo\"},\n",
    "        {\"lat\": 40.71, \"lon\": -74.01, \"name\": \"New_York\"},\n",
    "        {\"lat\": 51.51, \"lon\": -0.13, \"name\": \"London\"}\n",
    "    ]\n",
    "    #### Acessar os dados das 3 cidades\n",
    "    for name in cities:\n",
    "      cidade = cities['name']\n",
    "      cidade.to_csv(\"Cidades\")\n",
    "\n",
    "\n",
    "fetch_multiple_locations()\n",
    "\n",
    "\n"
   ]
  },
  {
   "cell_type": "markdown",
   "metadata": {
    "id": "jFl46E5pi3no"
   },
   "source": [
    "## 📌 Exercício 5: Desafio Aberto\n",
    "\n",
    "**Tarefa:**\n",
    "- Encontre uma API pública e colete dados relevantes.\n",
    "- Aplique pelo menos **duas transformações** nos dados (ex.: filtrar, remover nulos, converter formatos).\n",
    "- Salve o resultado em um arquivo JSON.\n",
    "\n",
    "### Dicas:\n",
    "- Explore APIs de seu interesse (esportes, música, astronomia, etc.).\n",
    "- Utilize `.dropna()`, `.filter()`, ou `.groupby()` para transformar os dados.\n",
    "- Salve usando `to_json()`."
   ]
  },
  {
   "cell_type": "code",
   "execution_count": null,
   "metadata": {
    "id": "Ow----3Pi3no"
   },
   "outputs": [],
   "source": [
    "def open_ended_exercise():\n",
    "    # Substitua essa API por uma de sua escolha!\n",
    "    api_url = \"https://jsonplaceholder.typicode.com/posts\"\n",
    "    response = requests.get(api_url)\n",
    "    df = pd.DataFrame(response.json())\n",
    "\n",
    "\n",
    "    return df\n",
    "\n",
    "open_ended_exercise()\n"
   ]
  }
 ],
 "metadata": {
  "colab": {
   "provenance": []
  },
  "kernelspec": {
   "display_name": "Python 3",
   "language": "python",
   "name": "python3"
  },
  "language_info": {
   "codemirror_mode": {
    "name": "ipython",
    "version": 3
   },
   "file_extension": ".py",
   "mimetype": "text/x-python",
   "name": "python",
   "nbconvert_exporter": "python",
   "pygments_lexer": "ipython3",
   "version": "3.12.9"
  }
 },
 "nbformat": 4,
 "nbformat_minor": 0
}
