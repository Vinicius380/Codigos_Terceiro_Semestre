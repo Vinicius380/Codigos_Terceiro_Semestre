{
  "cells": [
    {
      "cell_type": "markdown",
      "metadata": {
        "id": "rq_jBrldMxN0"
      },
      "source": [
        "# Conhecimentos"
      ]
    },
    {
      "cell_type": "markdown",
      "metadata": {
        "id": "j2AQwlhpNAEa"
      },
      "source": [
        "Tratamento de Ruídos em Dados\n",
        " - Limpeza Inicial\n",
        " - Tratamento de Outliers\n",
        " - Tratamento com Valores Ausentes"
      ]
    },
    {
      "cell_type": "markdown",
      "metadata": {
        "id": "7QDvsojoMjGC"
      },
      "source": [
        "# Capacidades"
      ]
    },
    {
      "cell_type": "markdown",
      "metadata": {
        "id": "xC6Jl9yQNQNW"
      },
      "source": [
        "Técnicas\n",
        "\n",
        "- Identificar ruidos na coleta de dados para realização de analise exploratoria\n",
        "\n",
        "- Realizar seleção de recursos visando a consistência dos dados\n",
        "\n",
        "- Identificar as lacunas nos conjuntos de dados para otimização do processamento dos dados\n",
        "\n",
        "Socioemocionais\n",
        "- Aprendizagem ativa e estratégias de aprendizagem\n",
        "- Ética\n",
        "- Resolução de problemas complexos\n"
      ]
    },
    {
      "cell_type": "markdown",
      "metadata": {
        "id": "558PWHGtAy93"
      },
      "source": [
        "# Limpeza Inicial"
      ]
    },
    {
      "cell_type": "markdown",
      "metadata": {
        "id": "o7BTOcfuA44-"
      },
      "source": [
        "A limpeza inicial é o primeiro passo no pré-processamento de dados. Ela envolve a remoção ou correção de inconsistências, valores duplicados e caracteres indesejados, garantindo que os dados estejam em um formato utilizável.\n",
        "\n",
        "Etapas principais:\n",
        "\n",
        "- Remoção de espaços extras e caracteres especiais\n",
        "\n",
        "- Padronização de formatos\n",
        "\n",
        "- Exclusão de registros duplicados\n",
        "\n",
        "- Conversão de tipos de dados"
      ]
    },
    {
      "cell_type": "markdown",
      "metadata": {
        "id": "tZPhVNFpPBBw"
      },
      "source": [
        "Exemplo 1: Padronização de Formatos e Remoção de Duplicatas"
      ]
    },
    {
      "cell_type": "code",
      "execution_count": null,
      "metadata": {
        "id": "2qe3DTn0AxEq"
      },
      "outputs": [],
      "source": [
        "import pandas as pd\n",
        "\n",
        "# Criando um conjunto de dados com inconsistências\n",
        "dados = {'Nome': ['Ana', 'Bruno ', 'Carlos', 'ANA', 'bruno'],\n",
        "         'Idade': ['25', '30 anos', '29', '25', '30'],\n",
        "         'Salario': ['3000', '4000R$', '5000', '3000', '4000R$']}\n",
        "df = pd.DataFrame(dados)\n",
        "print('XXXXXXXXXXXXXXXXXXXXXXXXXXXXXXXXXXX')\n",
        "print('XXX  Dados com Inconsistencias  XXX')\n",
        "print('XXXXXXXXXXXXXXXXXXXXXXXXXXXXXXXXXXX')\n",
        "print(df)\n",
        "print('XXXXXXXXXXXXXXXXXXXXXXXXXXXXXXXXXXX \\n')\n",
        "\n",
        "# Removendo espaços extras e padronizando letras maiúsculas/minúsculas\n",
        "df['Nome'] = df['Nome'].str.strip().str.capitalize()\n",
        "print('XXXXXXXXXXXXXXXXXXXXXXXXXXXXXXXXXXX')\n",
        "print('XXX Padronizando fonte e espaço XXX')\n",
        "print('XXXXXXXXXXXXXXXXXXXXXXXXXXXXXXXXXXX')\n",
        "print(df)\n",
        "print('XXXXXXXXXXXXXXXXXXXXXXXXXXXXXXXXXXX \\n')\n",
        "\n",
        "# Removendo caracteres não numéricos e convertendo para inteiro\n",
        "df['Idade'] = df['Idade'].str.extract('(\\d+)').astype(int)\n",
        "df['Salario'] = df['Salario'].str.extract('(\\d+)').astype(int)\n",
        "\n",
        "print('XXXXXXXXXXXXXXXXXXXXXXXXXXXXXXXXXXX')\n",
        "print('XXX  Convertendo e limpando     XXX')\n",
        "print('XXXXXXXXXXXXXXXXXXXXXXXXXXXXXXXXXXX')\n",
        "print(df)\n",
        "print('XXXXXXXXXXXXXXXXXXXXXXXXXXXXXXXXXXX \\n')\n",
        "\n",
        "# Removendo duplicatas\n",
        "df = df.drop_duplicates()\n",
        "print('XXXXXXXXXXXXXXXXXXXXXXXXXXXXXXXXXXX')\n",
        "print('XXX     Removendo duplicatas    XXX')\n",
        "print('XXXXXXXXXXXXXXXXXXXXXXXXXXXXXXXXXXX')\n",
        "print(df)\n",
        "print('XXXXXXXXXXXXXXXXXXXXXXXXXXXXXXXXXXX \\n')"
      ]
    },
    {
      "cell_type": "markdown",
      "metadata": {
        "id": "gsz57ZeCO-bA"
      },
      "source": [
        "Exemplo 2: Removendo Caracteres Especiais e Normalizando Textos"
      ]
    },
    {
      "cell_type": "code",
      "execution_count": null,
      "metadata": {
        "id": "9QXFQaijO9og"
      },
      "outputs": [],
      "source": [
        "# Criando um conjunto de dados com caracteres indesejados\n",
        "dados = {'Produto': ['TV 4K!!!', 'Smartphone*', 'Notebook@', 'Tablet##'],\n",
        "         'Preço': ['R$2000', 'R$1500', 'R$3500', 'R$1200']}\n",
        "df = pd.DataFrame(dados)\n",
        "\n",
        "# Removendo caracteres especiais\n",
        "df['Produto'] = df['Produto'].str.replace(r'[^a-zA-Z0-9 ]', '', regex=True)\n",
        "df['Preço'] = df['Preço'].str.extract('(\\d+)').astype(int)\n",
        "\n",
        "print(df)"
      ]
    },
    {
      "cell_type": "markdown",
      "metadata": {
        "id": "PBd1tlS6IhPk"
      },
      "source": [
        "# Tratamento de Outliers"
      ]
    },
    {
      "cell_type": "markdown",
      "metadata": {
        "id": "CV_1TlFpIrPv"
      },
      "source": [
        "Outliers são valores que se diferenciam significativamente da maioria dos dados. Eles podem ser causados por erros de entrada, medições incorretas ou variáveis externas inesperadas.\n",
        "\n",
        "Métodos de Tratamento:\n",
        "\n",
        "- Remoção de outliers com base em limites estatísticos\n",
        "\n",
        "- Substituição por média ou mediana\n",
        "\n",
        "- Transformações matemáticas"
      ]
    },
    {
      "cell_type": "markdown",
      "metadata": {
        "id": "j4ayealMPTiG"
      },
      "source": [
        "Exemplo 1: Removendo Outliers Usando IQR"
      ]
    },
    {
      "cell_type": "code",
      "execution_count": null,
      "metadata": {
        "id": "bu3ljh-dKNpC"
      },
      "outputs": [],
      "source": [
        "import numpy as np\n",
        "import matplotlib.pyplot as plt\n",
        "\n",
        "# Criando um conjunto de dados com outliers\n",
        "dados = np.array([10, 12, 11, 10, 100, 9, 8, 10, 105, 12])\n",
        "\n",
        "# Calculando os quartis\n",
        "Q1 = np.percentile(dados, 25)\n",
        "Q3 = np.percentile(dados, 75)\n",
        "IQR = Q3 - Q1\n",
        "\n",
        "# Definindo limites para detecção de outliers\n",
        "limite_inferior = Q1 - 1.5 * IQR\n",
        "limite_superior = Q3 + 1.5 * IQR\n",
        "\n",
        "# Filtrando os valores dentro dos limites\n",
        "dados_filtrados = dados[(dados >= limite_inferior) & (dados <= limite_superior)]\n",
        "\n",
        "print(\"Dados sem outliers:\", dados_filtrados)\n",
        "\n",
        "# Visualizando com boxplot\n",
        "plt.boxplot(dados)\n",
        "plt.title(\"Boxplot dos Dados\")\n",
        "plt.show()"
      ]
    },
    {
      "cell_type": "markdown",
      "metadata": {
        "id": "m8QQy77zPW-Y"
      },
      "source": [
        "Exemplo 2: Substituindo Outliers por Mediana"
      ]
    },
    {
      "cell_type": "code",
      "execution_count": null,
      "metadata": {
        "id": "rp2Yh3u7PZ1g"
      },
      "outputs": [],
      "source": [
        "import numpy as np\n",
        "import pandas as pd\n",
        "\n",
        "# Criando um conjunto de dados fictício\n",
        "dados = {'Idade': [22, 25, 26, 23, 30, 28, 120, 24, 22, 200]}\n",
        "df = pd.DataFrame(dados)\n",
        "\n",
        "# Calculando os quartis e o IQR\n",
        "Q1 = df['Idade'].quantile(0.25)\n",
        "Q3 = df['Idade'].quantile(0.75)\n",
        "IQR = Q3 - Q1\n",
        "\n",
        "# Definindo limites para detecção de outliers\n",
        "limite_inferior = Q1 - 1.5 * IQR\n",
        "limite_superior = Q3 + 1.5 * IQR\n",
        "\n",
        "# Identificando outliers\n",
        "outliers = (df['Idade'] < limite_inferior) | (df['Idade'] > limite_superior)\n",
        "\n",
        "# Substituindo outliers pela mediana\n",
        "mediana = df['Idade'].median()\n",
        "df.loc[outliers, 'Idade'] = mediana\n",
        "\n",
        "print(df)\n"
      ]
    },
    {
      "cell_type": "markdown",
      "metadata": {
        "id": "uIxkxDHwMJrl"
      },
      "source": [
        "# Tratamento com Valores Ausentes"
      ]
    },
    {
      "cell_type": "markdown",
      "metadata": {
        "id": "wIoegHzsMTJT"
      },
      "source": [
        "Valores ausentes podem ocorrer devido a falhas na coleta de dados, erros de registro ou simplesmente falta de resposta. O tratamento adequado evita vieses nas análises.\n",
        "\n",
        "Métodos de Tratamento:\n",
        "\n",
        "- Remoção de valores ausentes\n",
        "\n",
        "- Substituição por estatísticas (média, mediana, moda)\n",
        "\n",
        "- Preenchimento baseado em regressão"
      ]
    },
    {
      "cell_type": "markdown",
      "metadata": {
        "id": "JEAC8qbvQh12"
      },
      "source": [
        "Exemplo 1: Preenchendo Valores Ausentes em Notas de Alunos"
      ]
    },
    {
      "cell_type": "code",
      "execution_count": 1,
      "metadata": {
        "id": "g6LD2f62N2nl"
      },
      "outputs": [
        {
          "name": "stdout",
          "output_type": "stream",
          "text": [
            "Dados originais com valores ausentes:\n",
            "    Produto  Preço\n",
            "0     Arroz    5.5\n",
            "1    Feijão    NaN\n",
            "2  Macarrão    3.8\n",
            "3      Óleo    NaN\n",
            "4    Açúcar    4.2\n",
            "\n",
            "Dados após preenchimento dos valores ausentes:\n",
            "    Produto  Preço\n",
            "0     Arroz    5.5\n",
            "1    Feijão    4.5\n",
            "2  Macarrão    3.8\n",
            "3      Óleo    4.5\n",
            "4    Açúcar    4.2\n"
          ]
        }
      ],
      "source": [
        "import numpy as np\n",
        "import pandas as pd\n",
        "\n",
        "# Criando um DataFrame com valores ausentes\n",
        "dados = {'Produto': ['Arroz', 'Feijão', 'Macarrão', 'Óleo', 'Açúcar'],\n",
        "         'Preço': [5.50, np.nan, 3.80, np.nan, 4.20]}\n",
        "df = pd.DataFrame(dados)\n",
        "\n",
        "print(\"Dados originais com valores ausentes:\")\n",
        "print(df)\n",
        "\n",
        "# Preenchendo valores ausentes com a média dos preços (sem inplace=True)\n",
        "df['Preço'] = df['Preço'].fillna(df['Preço'].mean())\n",
        "\n",
        "print(\"\\nDados após preenchimento dos valores ausentes:\")\n",
        "print(df)\n"
      ]
    },
    {
      "cell_type": "markdown",
      "metadata": {
        "id": "HiTW3GzuQUJg"
      },
      "source": [
        "Exemplo 2: Removendo Registros com Valores Ausentes"
      ]
    },
    {
      "cell_type": "code",
      "execution_count": null,
      "metadata": {
        "colab": {
          "base_uri": "https://localhost:8080/"
        },
        "id": "IZ7KLDXCQaqe",
        "outputId": "21629ffe-a11f-4641-d636-c47562eabe70"
      },
      "outputs": [],
      "source": [
        "# Criando um DataFrame com valores ausentes\n",
        "dados = {'Cidade': ['São Paulo', 'Rio de Janeiro', 'Belo Horizonte', 'Salvador', None],\n",
        "         'População': [12_330_000, 6_700_000, 2_500_000, np.nan, 1_400_000]}\n",
        "df = pd.DataFrame(dados)\n",
        "\n",
        "# Removendo registros com valores ausentes\n",
        "df.dropna(inplace=True)\n",
        "print(df)"
      ]
    }
  ],
  "metadata": {
    "colab": {
      "provenance": []
    },
    "kernelspec": {
      "display_name": "Python 3",
      "name": "python3"
    },
    "language_info": {
      "codemirror_mode": {
        "name": "ipython",
        "version": 3
      },
      "file_extension": ".py",
      "mimetype": "text/x-python",
      "name": "python",
      "nbconvert_exporter": "python",
      "pygments_lexer": "ipython3",
      "version": "3.12.9"
    }
  },
  "nbformat": 4,
  "nbformat_minor": 0
}
