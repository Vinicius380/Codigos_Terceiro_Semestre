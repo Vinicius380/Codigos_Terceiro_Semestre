{
 "cells": [
  {
   "cell_type": "markdown",
   "metadata": {},
   "source": [
    "Limpeza inicial"
   ]
  },
  {
   "cell_type": "code",
   "execution_count": null,
   "metadata": {},
   "outputs": [],
   "source": [
    "import pandas as pd\n",
    "\n",
    "#Criando um conjunto de dados inconsistentes\n",
    "\n",
    "dados = {'Nome': ['Ana', 'Bruna', 'Carlos', 'ANA', 'bruno'],\n",
    "        'Idade': ['25', '30 anos', '29', '25', '30'],\n",
    "        'Salario': ['3000', '4000R$', '5000', '3000', '4000R$']}\n",
    "\n",
    "df = pd.DataFrame(dados)\n",
    "\n",
    "print(27*'-')\n",
    "print('X Dados com inconsistencias X')\n",
    "print(df)\n",
    "print(27*'-')\n",
    "\n",
    "#Removendo espacoes extras e padronizando letras maisculas e minusculas\n",
    "df['Nome'] = df['Nome'].str.strip().str.capitalize()\n",
    "\n",
    "print(27*'-')\n",
    "print('Removendo espacos e padronizando letras')\n",
    "print(df)\n",
    "print(27*'-')\n",
    "\n",
    "#Removendo caracteres nao numericos e convertendo para inteiro - Idade\n",
    "df['Idade'] = df['Idade'].str.extract('(\\\\d+)').astype(int)\n",
    "\n",
    "#Removendo caracteres nao numericos e convertendo para float - Salario\n",
    "df['Salario'] = df['Salario'].str.extract('(\\\\d+)').astype(int)\n",
    "\n",
    "print(27*'-')\n",
    "print('Convertendo para inteiro')\n",
    "print(df)\n",
    "print(27*'-')\n",
    "\n",
    "#Removendo valores duplicados\n",
    "df = df.drop_duplicates()\n",
    "\n",
    "print(27*'-')\n",
    "print('Removendo duplicatas')\n",
    "print(df)\n",
    "print(27*'-')"
   ]
  },
  {
   "cell_type": "code",
   "execution_count": 58,
   "metadata": {},
   "outputs": [
    {
     "name": "stdout",
     "output_type": "stream",
     "text": [
      "      Produto  Preco\n",
      "0       TV 4K   2000\n",
      "1  Smartphone   1500\n",
      "2    Notebook   3500\n",
      "3      Tablet   1200\n"
     ]
    }
   ],
   "source": [
    "#Criar um conjunto de dados com caracteres indesejados\n",
    "dados = {\n",
    "    'Produto': ['TV 4K!!!', 'Smartphone*', 'Notebook@', 'Tablet##'],\n",
    "    'Preco': ['R$2000', 'R$1500', 'R$3500', 'R$1200']\n",
    "}\n",
    "\n",
    "df = pd.DataFrame(dados)\n",
    "#print(df)\n",
    "\n",
    "\n",
    "df['Produto'] = df['Produto'].str.replace(r'[^a-zA-Z0-9 ]', '', regex=True)\n",
    "df['Preco'] = df['Preco'].str.extract('(\\\\d+)').astype(int)\n",
    "\n",
    "print(df)"
   ]
  },
  {
   "cell_type": "markdown",
   "metadata": {},
   "source": [
    "Tratamento de Outliers"
   ]
  },
  {
   "cell_type": "code",
   "execution_count": 66,
   "metadata": {},
   "outputs": [
    {
     "name": "stdout",
     "output_type": "stream",
     "text": [
      "Dados com outliers: [ 10  12  11  10 100   9   8  10 105  12]\n",
      "Dados sem outliers: [10 12 11 10  9  8 10 12]\n"
     ]
    },
    {
     "data": {
      "image/png": "[encoded data removed]",
      "text/plain": [
       "<Figure size 640x480 with 1 Axes>"
      ]
     },
     "metadata": {},
     "output_type": "display_data"
    },
    {
     "data": {
      "image/png": "[encoded data removed]",
      "text/plain": [
       "<Figure size 640x480 with 1 Axes>"
      ]
     },
     "metadata": {},
     "output_type": "display_data"
    }
   ],
   "source": [
    "import numpy as np\n",
    "import matplotlib.pyplot as plt\n",
    "\n",
    "dados = np.array([10, 12, 11, 10, 100, 9, 8, 10, 105, 12])\n",
    "\n",
    "Q1 = np.percentile(dados, 25)\n",
    "Q3 = np.percentile(dados, 75)\n",
    "IQR = Q3 - Q1\n",
    "limite_inferior = Q1 - 1.5 * IQR\n",
    "limite_superior = Q3 + 1.5 * IQR\n",
    "\n",
    "dados_filtrados = dados[(dados >= limite_inferior) & (dados <= limite_superior)]\n",
    "print(\"Dados com outliers:\", dados)\n",
    "print(\"Dados sem outliers:\", dados_filtrados)\n",
    "\n",
    "plt.boxplot(dados)\n",
    "plt.show()\n",
    "\n",
    "plt.boxplot(dados_filtrados)\n",
    "plt.show()"
   ]
  },
  {
   "cell_type": "code",
   "execution_count": 67,
   "metadata": {},
   "outputs": [
    {
     "name": "stdout",
     "output_type": "stream",
     "text": [
      "   Idade\n",
      "0   22.0\n",
      "1   25.0\n",
      "2   26.0\n",
      "3   23.0\n",
      "4   30.0\n",
      "5   28.0\n",
      "6   25.5\n",
      "7   24.0\n",
      "8   22.0\n",
      "9   25.5\n"
     ]
    },
    {
     "name": "stderr",
     "output_type": "stream",
     "text": [
      "C:\\Users\\50749314877\\AppData\\Local\\Temp\\ipykernel_2104\\2091609351.py:16: FutureWarning: Setting an item of incompatible dtype is deprecated and will raise an error in a future version of pandas. Value '25.5' has dtype incompatible with int64, please explicitly cast to a compatible dtype first.\n",
      "  df.loc[outliers.index, 'Idade'] = mediana\n"
     ]
    }
   ],
   "source": [
    "import numpy as np\n",
    "import pandas as pd\n",
    "\n",
    "dados = {'Idade': [22,25,26,23,30,28,120,24,22,200]}\n",
    "df = pd.DataFrame(dados)\n",
    "\n",
    "Q1 = df['Idade'].quantile(0.25)\n",
    "Q3 = df['Idade'].quantile(0.75)\n",
    "IQR = Q3 - Q1\n",
    "limite_inferior = Q1 - 1.5 * IQR\n",
    "limite_superior = Q3 + 1.5 * IQR\n",
    "\n",
    "outliers = df[(df['Idade'] < limite_inferior) | (df['Idade'] > limite_superior)]\n",
    "\n",
    "mediana = df[\"Idade\"].median()\n",
    "df.loc[outliers.index, 'Idade'] = mediana\n",
    "\n",
    "print(df)"
   ]
  }
 ],
 "metadata": {
  "kernelspec": {
   "display_name": "Python 3",
   "language": "python",
   "name": "python3"
  },
  "language_info": {
   "codemirror_mode": {
    "name": "ipython",
    "version": 3
   },
   "file_extension": ".py",
   "mimetype": "text/x-python",
   "name": "python",
   "nbconvert_exporter": "python",
   "pygments_lexer": "ipython3",
   "version": "3.12.9"
  }
 },
 "nbformat": 4,
 "nbformat_minor": 2
}
